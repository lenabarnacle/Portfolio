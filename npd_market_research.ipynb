{
 "cells": [
  {
   "cell_type": "code",
   "execution_count": 5,
   "id": "13f628df",
   "metadata": {
    "cellId": "rpyfuo1qvqastnfwxvybvq"
   },
   "outputs": [],
   "source": [
    "import pandas as pd\n",
    "import numpy as np\n",
    "import datetime\n",
    "import pickle\n",
    "from dateutil import relativedelta\n",
    "from sqlalchemy import create_engine\n",
    "from sklearn.cluster import KMeans\n",
    "from sklearn.metrics import silhouette_score\n",
    "\n",
    "import matplotlib\n",
    "import matplotlib.pyplot as plt\n",
    "%matplotlib inline\n",
    "\n",
    "import seaborn as sns\n",
    "\n",
    "import warnings\n",
    "warnings.filterwarnings('ignore')"
   ]
  },
  {
   "cell_type": "code",
   "execution_count": 6,
   "id": "4c46ddc2",
   "metadata": {
    "cellId": "i8ihy97zn9669y6rjtbrl"
   },
   "outputs": [
    {
     "name": "stdout",
     "output_type": "stream",
     "text": [
      "<class 'pandas.core.frame.DataFrame'>\n",
      "RangeIndex: 247 entries, 0 to 246\n",
      "Data columns (total 5 columns):\n",
      " #   Column       Non-Null Count  Dtype  \n",
      "---  ------       --------------  -----  \n",
      " 0   search_for   247 non-null    object \n",
      " 1   article      247 non-null    int64  \n",
      " 2   description  247 non-null    object \n",
      " 3   com_qty      247 non-null    float64\n",
      " 4   sales        247 non-null    float64\n",
      "dtypes: float64(2), int64(1), object(2)\n",
      "memory usage: 9.8+ KB\n"
     ]
    }
   ],
   "source": [
    "# данные, полученные из модели машинного обучения\n",
    "# по нескольким гипотезам со склада идей\n",
    "df = pd.read_csv('search_results.csv')\n",
    "df.info()"
   ]
  },
  {
   "cell_type": "code",
   "execution_count": 7,
   "id": "460e8d91",
   "metadata": {
    "cellId": "d68hzxi7s2jz2y3gwbs7"
   },
   "outputs": [
    {
     "data": {
      "text/html": [
       "<div>\n",
       "<style scoped>\n",
       "    .dataframe tbody tr th:only-of-type {\n",
       "        vertical-align: middle;\n",
       "    }\n",
       "\n",
       "    .dataframe tbody tr th {\n",
       "        vertical-align: top;\n",
       "    }\n",
       "\n",
       "    .dataframe thead th {\n",
       "        text-align: right;\n",
       "    }\n",
       "</style>\n",
       "<table border=\"1\" class=\"dataframe\">\n",
       "  <thead>\n",
       "    <tr style=\"text-align: right;\">\n",
       "      <th></th>\n",
       "      <th>search_for</th>\n",
       "      <th>article</th>\n",
       "      <th>description</th>\n",
       "      <th>com_qty</th>\n",
       "      <th>sales</th>\n",
       "    </tr>\n",
       "  </thead>\n",
       "  <tbody>\n",
       "    <tr>\n",
       "      <th>0</th>\n",
       "      <td>база под тени</td>\n",
       "      <td>2865742</td>\n",
       "      <td>База под тени для век Eyeshadow Base, 5 мл.</td>\n",
       "      <td>3431.0</td>\n",
       "      <td>4283.0</td>\n",
       "    </tr>\n",
       "    <tr>\n",
       "      <th>1</th>\n",
       "      <td>база под тени</td>\n",
       "      <td>4992119</td>\n",
       "      <td>База под тени Eye Shadow Base / основа под тени</td>\n",
       "      <td>1393.0</td>\n",
       "      <td>3514.0</td>\n",
       "    </tr>\n",
       "    <tr>\n",
       "      <th>2</th>\n",
       "      <td>база под тени</td>\n",
       "      <td>4869336</td>\n",
       "      <td>База под тени для век I love colour intensifyi...</td>\n",
       "      <td>442.0</td>\n",
       "      <td>371.0</td>\n",
       "    </tr>\n",
       "    <tr>\n",
       "      <th>3</th>\n",
       "      <td>база под тени</td>\n",
       "      <td>12945408</td>\n",
       "      <td>База под тени для век \"Luxury\"</td>\n",
       "      <td>160.0</td>\n",
       "      <td>370.0</td>\n",
       "    </tr>\n",
       "    <tr>\n",
       "      <th>4</th>\n",
       "      <td>база под тени</td>\n",
       "      <td>35052839</td>\n",
       "      <td>База под макияж / Основа под макияж / Праймер ...</td>\n",
       "      <td>41.0</td>\n",
       "      <td>217.0</td>\n",
       "    </tr>\n",
       "    <tr>\n",
       "      <th>5</th>\n",
       "      <td>база под тени</td>\n",
       "      <td>16182750</td>\n",
       "      <td>База-основа под тени для век HD HIGH DEFINITIO...</td>\n",
       "      <td>1.0</td>\n",
       "      <td>214.0</td>\n",
       "    </tr>\n",
       "    <tr>\n",
       "      <th>6</th>\n",
       "      <td>база под тени</td>\n",
       "      <td>12139916</td>\n",
       "      <td>База под тени серии EYE SHADOW BASE, 7мл</td>\n",
       "      <td>210.0</td>\n",
       "      <td>191.0</td>\n",
       "    </tr>\n",
       "    <tr>\n",
       "      <th>7</th>\n",
       "      <td>база под тени</td>\n",
       "      <td>14253785</td>\n",
       "      <td>База под тени для век Magique</td>\n",
       "      <td>42.0</td>\n",
       "      <td>102.0</td>\n",
       "    </tr>\n",
       "    <tr>\n",
       "      <th>8</th>\n",
       "      <td>база под тени</td>\n",
       "      <td>2094813</td>\n",
       "      <td>База под тени для век \"Perfect Skin\", тон 20</td>\n",
       "      <td>836.0</td>\n",
       "      <td>63.0</td>\n",
       "    </tr>\n",
       "    <tr>\n",
       "      <th>9</th>\n",
       "      <td>база под тени</td>\n",
       "      <td>13641055</td>\n",
       "      <td>Тени для век, палетка теней, макияж глаз и бро...</td>\n",
       "      <td>192.0</td>\n",
       "      <td>54.0</td>\n",
       "    </tr>\n",
       "  </tbody>\n",
       "</table>\n",
       "</div>"
      ],
      "text/plain": [
       "      search_for   article                                        description  \\\n",
       "0  база под тени   2865742        База под тени для век Eyeshadow Base, 5 мл.   \n",
       "1  база под тени   4992119    База под тени Eye Shadow Base / основа под тени   \n",
       "2  база под тени   4869336  База под тени для век I love colour intensifyi...   \n",
       "3  база под тени  12945408                    База под тени для век \"Luxury\"    \n",
       "4  база под тени  35052839  База под макияж / Основа под макияж / Праймер ...   \n",
       "5  база под тени  16182750  База-основа под тени для век HD HIGH DEFINITIO...   \n",
       "6  база под тени  12139916           База под тени серии EYE SHADOW BASE, 7мл   \n",
       "7  база под тени  14253785                      База под тени для век Magique   \n",
       "8  база под тени   2094813       База под тени для век \"Perfect Skin\", тон 20   \n",
       "9  база под тени  13641055  Тени для век, палетка теней, макияж глаз и бро...   \n",
       "\n",
       "   com_qty   sales  \n",
       "0   3431.0  4283.0  \n",
       "1   1393.0  3514.0  \n",
       "2    442.0   371.0  \n",
       "3    160.0   370.0  \n",
       "4     41.0   217.0  \n",
       "5      1.0   214.0  \n",
       "6    210.0   191.0  \n",
       "7     42.0   102.0  \n",
       "8    836.0    63.0  \n",
       "9    192.0    54.0  "
      ]
     },
     "execution_count": 7,
     "metadata": {},
     "output_type": "execute_result"
    }
   ],
   "source": [
    "df.head(10)"
   ]
  },
  {
   "cell_type": "code",
   "execution_count": 8,
   "id": "d94670c5",
   "metadata": {
    "cellId": "x823rg8kklpwtbw46xbir"
   },
   "outputs": [
    {
     "data": {
      "text/html": [
       "<div>\n",
       "<style scoped>\n",
       "    .dataframe tbody tr th:only-of-type {\n",
       "        vertical-align: middle;\n",
       "    }\n",
       "\n",
       "    .dataframe tbody tr th {\n",
       "        vertical-align: top;\n",
       "    }\n",
       "\n",
       "    .dataframe thead th {\n",
       "        text-align: right;\n",
       "    }\n",
       "</style>\n",
       "<table border=\"1\" class=\"dataframe\">\n",
       "  <thead>\n",
       "    <tr style=\"text-align: right;\">\n",
       "      <th></th>\n",
       "      <th>search_for</th>\n",
       "      <th>com_qty</th>\n",
       "      <th>sales</th>\n",
       "    </tr>\n",
       "  </thead>\n",
       "  <tbody>\n",
       "    <tr>\n",
       "      <th>0</th>\n",
       "      <td>база под тени</td>\n",
       "      <td>6878.0</td>\n",
       "      <td>9453.0</td>\n",
       "    </tr>\n",
       "    <tr>\n",
       "      <th>1</th>\n",
       "      <td>банановая пудра</td>\n",
       "      <td>0.0</td>\n",
       "      <td>2.0</td>\n",
       "    </tr>\n",
       "    <tr>\n",
       "      <th>2</th>\n",
       "      <td>воск для рук</td>\n",
       "      <td>3223.0</td>\n",
       "      <td>4419.0</td>\n",
       "    </tr>\n",
       "    <tr>\n",
       "      <th>3</th>\n",
       "      <td>жидкие румяна</td>\n",
       "      <td>1802.0</td>\n",
       "      <td>653.0</td>\n",
       "    </tr>\n",
       "    <tr>\n",
       "      <th>4</th>\n",
       "      <td>косметический лед</td>\n",
       "      <td>43.0</td>\n",
       "      <td>130.0</td>\n",
       "    </tr>\n",
       "    <tr>\n",
       "      <th>5</th>\n",
       "      <td>крем с ацеролой</td>\n",
       "      <td>2.0</td>\n",
       "      <td>3.0</td>\n",
       "    </tr>\n",
       "    <tr>\n",
       "      <th>6</th>\n",
       "      <td>крио-маска для лица</td>\n",
       "      <td>1984.0</td>\n",
       "      <td>8075.0</td>\n",
       "    </tr>\n",
       "    <tr>\n",
       "      <th>7</th>\n",
       "      <td>липосомальная сыворотка</td>\n",
       "      <td>234.0</td>\n",
       "      <td>701.0</td>\n",
       "    </tr>\n",
       "    <tr>\n",
       "      <th>8</th>\n",
       "      <td>маска с матчей</td>\n",
       "      <td>232.0</td>\n",
       "      <td>647.0</td>\n",
       "    </tr>\n",
       "    <tr>\n",
       "      <th>9</th>\n",
       "      <td>скраб для губ</td>\n",
       "      <td>3314.0</td>\n",
       "      <td>7407.0</td>\n",
       "    </tr>\n",
       "    <tr>\n",
       "      <th>10</th>\n",
       "      <td>убтан для лица</td>\n",
       "      <td>219.0</td>\n",
       "      <td>347.0</td>\n",
       "    </tr>\n",
       "  </tbody>\n",
       "</table>\n",
       "</div>"
      ],
      "text/plain": [
       "                 search_for  com_qty   sales\n",
       "0             база под тени   6878.0  9453.0\n",
       "1           банановая пудра      0.0     2.0\n",
       "2              воск для рук   3223.0  4419.0\n",
       "3             жидкие румяна   1802.0   653.0\n",
       "4         косметический лед     43.0   130.0\n",
       "5           крем с ацеролой      2.0     3.0\n",
       "6      крио-маска для лица    1984.0  8075.0\n",
       "7   липосомальная сыворотка    234.0   701.0\n",
       "8            маска с матчей    232.0   647.0\n",
       "9             скраб для губ   3314.0  7407.0\n",
       "10           убтан для лица    219.0   347.0"
      ]
     },
     "execution_count": 8,
     "metadata": {},
     "output_type": "execute_result"
    }
   ],
   "source": [
    "df[['search_for','com_qty','sales']].groupby(by=['search_for']).sum().reset_index()"
   ]
  },
  {
   "cell_type": "code",
   "execution_count": null,
   "id": "d5e5e9bb",
   "metadata": {
    "cellId": "bcjp4yyr70q3q0j7mbbepi"
   },
   "outputs": [],
   "source": [
    "# данные, полученные из модели машинного обучения\n",
    "# sku из кластера\n",
    "file = 'npd_market_research/df_good_clusters_sku.pickle'\n",
    "with open(file, 'rb') as f:\n",
    "    df_clusters = pickle.load(f)\n",
    "df_clusters.head(10)"
   ]
  },
  {
   "cell_type": "code",
   "execution_count": null,
   "id": "c489497e",
   "metadata": {
    "cellId": "qb2c6f0nn0dsltej2z1yb"
   },
   "outputs": [],
   "source": [
    "df_clusters[['cluster','sku']].groupby('cluster').count().sort_values(by='sku', ascending=False).reset_index().head(10)"
   ]
  },
  {
   "cell_type": "markdown",
   "id": "a8373f5c",
   "metadata": {
    "cellId": "z3x21gy7wyc2ag6drjgjah"
   },
   "source": [
    "### Исследование рынка"
   ]
  },
  {
   "cell_type": "code",
   "execution_count": 9,
   "id": "54a5874a",
   "metadata": {
    "cellId": "beanoovhxyhj94oxbwhuf"
   },
   "outputs": [
    {
     "data": {
      "text/plain": [
       "119"
      ]
     },
     "execution_count": 9,
     "metadata": {},
     "output_type": "execute_result"
    }
   ],
   "source": [
    "# получаем список артикулов для поискового запроса\n",
    "articles_list = [str(x) for x in df[df['search_for'] == 'скраб для губ']['article'].to_list()]\n",
    "articles_list = set(articles_list)\n",
    "articles_str = \",\".join(articles_list)\n",
    "len(articles_list)"
   ]
  },
  {
   "cell_type": "markdown",
   "id": "65b264b4",
   "metadata": {
    "cellId": "ly4u660tzzsbndn47a4mh"
   },
   "source": [
    "##### или"
   ]
  },
  {
   "cell_type": "code",
   "execution_count": null,
   "id": "a4f91c38",
   "metadata": {
    "cellId": "srb1lef199ectqdmnbkib"
   },
   "outputs": [],
   "source": [
    "# получаем список артикулов из кластера\n",
    "articles_list = [str(x) for x in df_clusters[df_clusters['cluster'] == 5859]['sku'].to_list()]\n",
    "articles_list = set(articles_list)\n",
    "articles_str = \",\".join(articles_list)\n",
    "len(articles_list)"
   ]
  },
  {
   "cell_type": "code",
   "execution_count": 11,
   "id": "d52f6e60",
   "metadata": {
    "cellId": "tqx175mw6emqwjgirtdm9p"
   },
   "outputs": [],
   "source": [
    "# по указанным артикулам получаем данные mpstats за последние 6 мес.\n",
    "date_1 = datetime.date.today() - relativedelta.relativedelta(months=6)\n",
    "date_2 = datetime.date.today()\n",
    "\n",
    "connection_string = ''\n",
    "engine = create_engine(connection_string)\n",
    "\n",
    "query = f\"\"\"\n",
    "    select distinct\n",
    "        mps_wb.mpstats_id as product_id,\n",
    "        mps_wb.\"name\" as \"name\",\n",
    "        mps_wb.brand as brand,\n",
    "        mps_wb.category as category,\n",
    "        mps_wb.\"comments\" as \"comments\",\n",
    "        mps_wb.rating as rating,\n",
    "        mps_wb.final_price as price,\n",
    "        mps_wb.sales as sales_num,\n",
    "        mps_wb.\"date\" as \"date\"\n",
    "    from sa.mps_wb_products as mps_wb\n",
    "    where 1 = 1\n",
    "        and mps_wb.\"date\" between '{str(date_1)}' and '{str(date_2)}'\n",
    "        and mps_wb.mpstats_id in ({articles_str})\n",
    "    \"\"\"\n",
    "mpstats = pd.read_sql(query, engine)\n",
    "engine.dispose()"
   ]
  },
  {
   "cell_type": "code",
   "execution_count": 12,
   "id": "b8ed89bd",
   "metadata": {
    "cellId": "sj268b4c4ookm1iyrtix"
   },
   "outputs": [
    {
     "name": "stdout",
     "output_type": "stream",
     "text": [
      "<class 'pandas.core.frame.DataFrame'>\n",
      "RangeIndex: 14461 entries, 0 to 14460\n",
      "Data columns (total 9 columns):\n",
      " #   Column      Non-Null Count  Dtype \n",
      "---  ------      --------------  ----- \n",
      " 0   product_id  14461 non-null  int64 \n",
      " 1   name        14461 non-null  object\n",
      " 2   brand       14461 non-null  object\n",
      " 3   category    14461 non-null  object\n",
      " 4   comments    14461 non-null  int64 \n",
      " 5   rating      14461 non-null  int64 \n",
      " 6   price       14461 non-null  int64 \n",
      " 7   sales_num   14461 non-null  int64 \n",
      " 8   date        14461 non-null  object\n",
      "dtypes: int64(5), object(4)\n",
      "memory usage: 1016.9+ KB\n"
     ]
    }
   ],
   "source": [
    "mpstats.info()"
   ]
  },
  {
   "cell_type": "code",
   "execution_count": 13,
   "id": "65437dcb",
   "metadata": {
    "cellId": "gtrb2qf5nqe70t5c0dnl56"
   },
   "outputs": [
    {
     "data": {
      "text/plain": [
       "6516"
      ]
     },
     "execution_count": 13,
     "metadata": {},
     "output_type": "execute_result"
    }
   ],
   "source": [
    "# оставляем только товары, у которых были продажи (решили с Кириллом)\n",
    "mpstats = mpstats[mpstats['sales_num'] > 0].reset_index(drop=True)\n",
    "len(mpstats)"
   ]
  },
  {
   "cell_type": "code",
   "execution_count": 14,
   "id": "6d0b6ea1",
   "metadata": {
    "cellId": "e82gbylt3l9dqzt6tdg4b"
   },
   "outputs": [
    {
     "data": {
      "text/plain": [
       "6516"
      ]
     },
     "execution_count": 14,
     "metadata": {},
     "output_type": "execute_result"
    }
   ],
   "source": [
    "# удаляем дубликаты (особенность данных), без учета поля category\n",
    "mpstats['product_id'] = mpstats['product_id'].astype(str)\n",
    "mpstats = mpstats.drop_duplicates(subset=['product_id','category','date',], keep='last')\n",
    "len(mpstats)"
   ]
  },
  {
   "cell_type": "code",
   "execution_count": 15,
   "id": "5684c086",
   "metadata": {
    "cellId": "qgdmgo8e47h0vgqkc9lvqtn"
   },
   "outputs": [
    {
     "data": {
      "text/html": [
       "<div>\n",
       "<style scoped>\n",
       "    .dataframe tbody tr th:only-of-type {\n",
       "        vertical-align: middle;\n",
       "    }\n",
       "\n",
       "    .dataframe tbody tr th {\n",
       "        vertical-align: top;\n",
       "    }\n",
       "\n",
       "    .dataframe thead th {\n",
       "        text-align: right;\n",
       "    }\n",
       "</style>\n",
       "<table border=\"1\" class=\"dataframe\">\n",
       "  <thead>\n",
       "    <tr style=\"text-align: right;\">\n",
       "      <th></th>\n",
       "      <th>product_id</th>\n",
       "      <th>name</th>\n",
       "      <th>brand</th>\n",
       "      <th>category</th>\n",
       "      <th>comments</th>\n",
       "      <th>rating</th>\n",
       "      <th>price</th>\n",
       "      <th>sales_num</th>\n",
       "      <th>date</th>\n",
       "    </tr>\n",
       "  </thead>\n",
       "  <tbody>\n",
       "    <tr>\n",
       "      <th>0</th>\n",
       "      <td>16597194</td>\n",
       "      <td>Скраб для бровей и губ Brow Scrub 100 мл</td>\n",
       "      <td>Zola</td>\n",
       "      <td>Красота/Уход за кожей/Уход за лицом/Скраб</td>\n",
       "      <td>6</td>\n",
       "      <td>3</td>\n",
       "      <td>995</td>\n",
       "      <td>1</td>\n",
       "      <td>2021-12-21</td>\n",
       "    </tr>\n",
       "    <tr>\n",
       "      <th>1</th>\n",
       "      <td>11942318</td>\n",
       "      <td>Подарочный набор Кокос: Кокосовое масло Экстра...</td>\n",
       "      <td>СпивакЪ</td>\n",
       "      <td>Красота/Уход за кожей/Уход за телом/Косметичес...</td>\n",
       "      <td>19</td>\n",
       "      <td>5</td>\n",
       "      <td>912</td>\n",
       "      <td>1</td>\n",
       "      <td>2022-02-05</td>\n",
       "    </tr>\n",
       "    <tr>\n",
       "      <th>2</th>\n",
       "      <td>2866055</td>\n",
       "      <td>Восстанавливающий крем после процедур лазерной...</td>\n",
       "      <td>Beauty Style</td>\n",
       "      <td>Красота/Уход за кожей/Уход за лицом/Крем</td>\n",
       "      <td>37</td>\n",
       "      <td>5</td>\n",
       "      <td>796</td>\n",
       "      <td>5</td>\n",
       "      <td>2021-12-21</td>\n",
       "    </tr>\n",
       "    <tr>\n",
       "      <th>3</th>\n",
       "      <td>11669880</td>\n",
       "      <td>Скраб для губ coconut kiss ухаживающий т.01</td>\n",
       "      <td>essence</td>\n",
       "      <td>Красота/Уход за кожей/Уход для губ/Скраб</td>\n",
       "      <td>277</td>\n",
       "      <td>5</td>\n",
       "      <td>285</td>\n",
       "      <td>34</td>\n",
       "      <td>2021-12-20</td>\n",
       "    </tr>\n",
       "    <tr>\n",
       "      <th>4</th>\n",
       "      <td>6595065</td>\n",
       "      <td>Скраб для губ Organic Wear Organic Rose Oil Li...</td>\n",
       "      <td>Physicians Formula</td>\n",
       "      <td>Красота/Уход за кожей/Уход для губ/Скраб</td>\n",
       "      <td>67</td>\n",
       "      <td>4</td>\n",
       "      <td>454</td>\n",
       "      <td>3</td>\n",
       "      <td>2022-02-22</td>\n",
       "    </tr>\n",
       "    <tr>\n",
       "      <th>5</th>\n",
       "      <td>11990863</td>\n",
       "      <td>Малиновый скраб для губ</td>\n",
       "      <td>KOROLKOVA</td>\n",
       "      <td>Красота/Уход за кожей/Уход для губ/Скраб</td>\n",
       "      <td>10</td>\n",
       "      <td>5</td>\n",
       "      <td>475</td>\n",
       "      <td>1</td>\n",
       "      <td>2021-10-10</td>\n",
       "    </tr>\n",
       "    <tr>\n",
       "      <th>6</th>\n",
       "      <td>6595065</td>\n",
       "      <td>Скраб для губ Organic Wear Organic Rose Oil Li...</td>\n",
       "      <td>Physicians Formula</td>\n",
       "      <td>Красота/Уход за кожей/Уход для губ/Скраб</td>\n",
       "      <td>67</td>\n",
       "      <td>4</td>\n",
       "      <td>454</td>\n",
       "      <td>3</td>\n",
       "      <td>2022-01-25</td>\n",
       "    </tr>\n",
       "    <tr>\n",
       "      <th>7</th>\n",
       "      <td>11942315</td>\n",
       "      <td>Подарочный набор для губ Ваниль: Помада, Бальз...</td>\n",
       "      <td>СпивакЪ</td>\n",
       "      <td>Красота/Уход за кожей/Уход за лицом/Косметичес...</td>\n",
       "      <td>29</td>\n",
       "      <td>5</td>\n",
       "      <td>513</td>\n",
       "      <td>1</td>\n",
       "      <td>2021-12-30</td>\n",
       "    </tr>\n",
       "    <tr>\n",
       "      <th>8</th>\n",
       "      <td>10725065</td>\n",
       "      <td>Скраб для губ Sugar baby</td>\n",
       "      <td>Neo Care</td>\n",
       "      <td>Красота/Уход за кожей/Уход за лицом/Скраб</td>\n",
       "      <td>73</td>\n",
       "      <td>3</td>\n",
       "      <td>148</td>\n",
       "      <td>1</td>\n",
       "      <td>2021-11-22</td>\n",
       "    </tr>\n",
       "    <tr>\n",
       "      <th>9</th>\n",
       "      <td>7893017</td>\n",
       "      <td>Скраб для губ Бергамот, 15 г</td>\n",
       "      <td>СпивакЪ</td>\n",
       "      <td>Красота/Уход за кожей/Уход для губ/Скраб</td>\n",
       "      <td>238</td>\n",
       "      <td>5</td>\n",
       "      <td>170</td>\n",
       "      <td>1</td>\n",
       "      <td>2021-12-23</td>\n",
       "    </tr>\n",
       "  </tbody>\n",
       "</table>\n",
       "</div>"
      ],
      "text/plain": [
       "  product_id                                               name  \\\n",
       "0   16597194           Скраб для бровей и губ Brow Scrub 100 мл   \n",
       "1   11942318  Подарочный набор Кокос: Кокосовое масло Экстра...   \n",
       "2    2866055  Восстанавливающий крем после процедур лазерной...   \n",
       "3   11669880        Скраб для губ coconut kiss ухаживающий т.01   \n",
       "4    6595065  Скраб для губ Organic Wear Organic Rose Oil Li...   \n",
       "5   11990863                            Малиновый скраб для губ   \n",
       "6    6595065  Скраб для губ Organic Wear Organic Rose Oil Li...   \n",
       "7   11942315  Подарочный набор для губ Ваниль: Помада, Бальз...   \n",
       "8   10725065                           Скраб для губ Sugar baby   \n",
       "9    7893017                       Скраб для губ Бергамот, 15 г   \n",
       "\n",
       "                brand                                           category  \\\n",
       "0                Zola          Красота/Уход за кожей/Уход за лицом/Скраб   \n",
       "1             СпивакЪ  Красота/Уход за кожей/Уход за телом/Косметичес...   \n",
       "2        Beauty Style           Красота/Уход за кожей/Уход за лицом/Крем   \n",
       "3             essence           Красота/Уход за кожей/Уход для губ/Скраб   \n",
       "4  Physicians Formula           Красота/Уход за кожей/Уход для губ/Скраб   \n",
       "5           KOROLKOVA           Красота/Уход за кожей/Уход для губ/Скраб   \n",
       "6  Physicians Formula           Красота/Уход за кожей/Уход для губ/Скраб   \n",
       "7             СпивакЪ  Красота/Уход за кожей/Уход за лицом/Косметичес...   \n",
       "8            Neo Care          Красота/Уход за кожей/Уход за лицом/Скраб   \n",
       "9             СпивакЪ           Красота/Уход за кожей/Уход для губ/Скраб   \n",
       "\n",
       "   comments  rating  price  sales_num        date  \n",
       "0         6       3    995          1  2021-12-21  \n",
       "1        19       5    912          1  2022-02-05  \n",
       "2        37       5    796          5  2021-12-21  \n",
       "3       277       5    285         34  2021-12-20  \n",
       "4        67       4    454          3  2022-02-22  \n",
       "5        10       5    475          1  2021-10-10  \n",
       "6        67       4    454          3  2022-01-25  \n",
       "7        29       5    513          1  2021-12-30  \n",
       "8        73       3    148          1  2021-11-22  \n",
       "9       238       5    170          1  2021-12-23  "
      ]
     },
     "execution_count": 15,
     "metadata": {},
     "output_type": "execute_result"
    }
   ],
   "source": [
    "mpstats.head(10)"
   ]
  },
  {
   "cell_type": "code",
   "execution_count": 16,
   "id": "62d7ec5a",
   "metadata": {
    "cellId": "cft6jyey3pa6d5w2c1rtbb"
   },
   "outputs": [
    {
     "data": {
      "text/plain": [
       "Красота/Уход за кожей/Уход для губ/Скраб                             0.462554\n",
       "Красота/Уход за кожей/Уход за лицом/Скраб                            0.110651\n",
       "Красота/Органическая косметика/Скраб                                 0.079343\n",
       "Красота/Профессиональная косметика/Скраб                             0.049417\n",
       "Красота/Уход за кожей/Уход за телом/Скраб                            0.035912\n",
       "Красота/Уход за кожей/Уход для губ/Косметический набор для ухода     0.024862\n",
       "Красота/Уход за кожей/Уход за лицом/Крем                             0.022406\n",
       "Красота/Корейские бренды/Крем                                        0.022406\n",
       "Красота/Мужская линия/Уход за лицом и телом/Скраб                    0.019797\n",
       "Красота/Уход за кожей/Уход за лицом/Косметический набор для ухода    0.018723\n",
       "Красота/Уход за кожей/Уход за ногами/Крем                            0.018416\n",
       "Красота/Профессиональная косметика/Бальзам                           0.017649\n",
       "Красота/Подарочные наборы/Косметический набор для ухода              0.017035\n",
       "Красота/Уход за кожей/Уход для губ/Бальзам                           0.015961\n",
       "Красота/Уход за кожей/Уход за телом/Косметический набор для ухода    0.012431\n",
       "Красота/Уход за кожей/Уход за лицом/Гель                             0.010589\n",
       "Красота/Уход за кожей/Уход за телом/Маска косметическая              0.006292\n",
       "Красота/Уход за кожей/Уход для губ                                   0.006139\n",
       "Красота/Макияж/Губы/Блеск                                            0.005832\n",
       "Красота/Уход за кожей/Уход за лицом/Сыворотка                        0.005218\n",
       "Name: category, dtype: float64"
      ]
     },
     "execution_count": 16,
     "metadata": {},
     "output_type": "execute_result"
    }
   ],
   "source": [
    "mpstats['category'].value_counts(normalize=True).head(20)  # наиболее популярные категории (справочно)"
   ]
  },
  {
   "cell_type": "code",
   "execution_count": 17,
   "id": "365c7c88",
   "metadata": {
    "cellId": "fi8m7rnchfwfe67y7g3i"
   },
   "outputs": [
    {
     "data": {
      "text/plain": [
       "Скраб                            0.773941\n",
       "Косметический набор для ухода    0.077502\n",
       "Крем                             0.063229\n",
       "Бальзам                          0.033610\n",
       "Маска косметическая              0.011357\n",
       "Гель                             0.010589\n",
       "Сыворотка                        0.009208\n",
       "Уход для губ                     0.006139\n",
       "Блеск                            0.005832\n",
       "Уход за лицом                    0.002762\n",
       "Name: subject, dtype: float64"
      ]
     },
     "execution_count": 17,
     "metadata": {},
     "output_type": "execute_result"
    }
   ],
   "source": [
    "mpstats = mpstats.rename(columns={'category':'category_init'})\n",
    "mpstats['category'] = [x.split('/') for x in mpstats['category_init']]\n",
    "mpstats['subject'] = [x[-1] for x in mpstats['category']]  # тип товаров\n",
    "mpstats['category'] = [x[0] for x in mpstats['category']]\n",
    "mpstats['subject'].value_counts(normalize=True).head(10)"
   ]
  },
  {
   "cell_type": "code",
   "execution_count": 13,
   "id": "3377e219",
   "metadata": {},
   "outputs": [],
   "source": [
    "import numpy as np\n",
    "import pandas as pd\n",
    "\n",
    "a = np.NaN\n",
    "if pd.notna(a):\n",
    "    print('a')"
   ]
  },
  {
   "cell_type": "code",
   "execution_count": 18,
   "id": "6b061901",
   "metadata": {},
   "outputs": [
    {
     "data": {
      "text/plain": [
       "['Красота/Аптечная косметика/Скраб',\n",
       " 'Красота/Волосы/Уход за волосами/Скраб',\n",
       " 'Красота/Корейские бренды/Скраб',\n",
       " 'Красота/Мужская линия/Уход за лицом и телом/Скраб',\n",
       " 'Красота/Органическая косметика/Скраб',\n",
       " 'Красота/Профессиональная косметика/Скраб',\n",
       " 'Красота/Уход за кожей/Для ванны и душа/Скраб',\n",
       " 'Красота/Уход за кожей/Уход для губ/Скраб',\n",
       " 'Красота/Уход за кожей/Уход за лицом/Скраб',\n",
       " 'Красота/Уход за кожей/Уход за руками/Скраб',\n",
       " 'Красота/Уход за кожей/Уход за телом/Скраб']"
      ]
     },
     "execution_count": 18,
     "metadata": {},
     "output_type": "execute_result"
    }
   ],
   "source": [
    "# выбранные категории\n",
    "sorted(mpstats[mpstats['subject'] == mpstats['subject'].value_counts().index[0]]['category_init'].unique().tolist())"
   ]
  },
  {
   "cell_type": "code",
   "execution_count": 19,
   "id": "ed57b91c",
   "metadata": {},
   "outputs": [
    {
     "data": {
      "text/plain": [
       "['Красота/Аксессуары/Косметические принадлежности/Массажер косметический',\n",
       " 'Красота/Корейские бренды',\n",
       " 'Красота/Корейские бренды/Крем',\n",
       " 'Красота/Корейские бренды/Сыворотка',\n",
       " 'Красота/Макияж/Губы',\n",
       " 'Красота/Макияж/Губы/Блеск',\n",
       " 'Красота/Мужская линия/Уход за лицом и телом',\n",
       " 'Красота/Органическая косметика',\n",
       " 'Красота/Органическая косметика/Косметический набор для ухода',\n",
       " 'Красота/Подарочные наборы',\n",
       " 'Красота/Подарочные наборы/Косметический набор для ухода',\n",
       " 'Красота/Профессиональная косметика',\n",
       " 'Красота/Профессиональная косметика/Бальзам',\n",
       " 'Красота/Уход за кожей/Для ванны и душа/Косметический набор для ухода',\n",
       " 'Красота/Уход за кожей/Уход для губ',\n",
       " 'Красота/Уход за кожей/Уход для губ/Бальзам',\n",
       " 'Красота/Уход за кожей/Уход для губ/Косметический набор для ухода',\n",
       " 'Красота/Уход за кожей/Уход для губ/Маска косметическая',\n",
       " 'Красота/Уход за кожей/Уход за лицом',\n",
       " 'Красота/Уход за кожей/Уход за лицом/Гель',\n",
       " 'Красота/Уход за кожей/Уход за лицом/Косметический набор для ухода',\n",
       " 'Красота/Уход за кожей/Уход за лицом/Крем',\n",
       " 'Красота/Уход за кожей/Уход за лицом/Сыворотка',\n",
       " 'Красота/Уход за кожей/Уход за ногами',\n",
       " 'Красота/Уход за кожей/Уход за ногами/Крем',\n",
       " 'Красота/Уход за кожей/Уход за телом',\n",
       " 'Красота/Уход за кожей/Уход за телом/Косметический набор для ухода',\n",
       " 'Красота/Уход за кожей/Уход за телом/Маска косметическая']"
      ]
     },
     "execution_count": 19,
     "metadata": {},
     "output_type": "execute_result"
    }
   ],
   "source": [
    "# прочие категории\n",
    "sorted(mpstats[~(mpstats['subject'] == mpstats['subject'].value_counts().index[0])]['category_init'].unique().tolist())"
   ]
  },
  {
   "cell_type": "code",
   "execution_count": 20,
   "id": "ef241f30",
   "metadata": {
    "cellId": "ef8eh1fgu0lxdtp4yff4i"
   },
   "outputs": [
    {
     "data": {
      "text/plain": [
       "5043"
      ]
     },
     "execution_count": 20,
     "metadata": {},
     "output_type": "execute_result"
    }
   ],
   "source": [
    "# выбираем товары наиболее популярного типа (в данном случае \"Скраб\")\n",
    "# считаем, что прочие артикулы нерелевантны поисковому запросу\n",
    "mpstats = mpstats[mpstats['subject'] == mpstats['subject'].value_counts().index[0]].reset_index(drop=True)\n",
    "len(mpstats)"
   ]
  },
  {
   "cell_type": "code",
   "execution_count": 21,
   "id": "5654a291",
   "metadata": {
    "cellId": "y4ozpmpermqlla02nygusc"
   },
   "outputs": [
    {
     "data": {
      "text/html": [
       "<div>\n",
       "<style scoped>\n",
       "    .dataframe tbody tr th:only-of-type {\n",
       "        vertical-align: middle;\n",
       "    }\n",
       "\n",
       "    .dataframe tbody tr th {\n",
       "        vertical-align: top;\n",
       "    }\n",
       "\n",
       "    .dataframe thead th {\n",
       "        text-align: right;\n",
       "    }\n",
       "</style>\n",
       "<table border=\"1\" class=\"dataframe\">\n",
       "  <thead>\n",
       "    <tr style=\"text-align: right;\">\n",
       "      <th></th>\n",
       "      <th>product_id</th>\n",
       "      <th>categories</th>\n",
       "    </tr>\n",
       "  </thead>\n",
       "  <tbody>\n",
       "    <tr>\n",
       "      <th>0</th>\n",
       "      <td>10152685</td>\n",
       "      <td>2</td>\n",
       "    </tr>\n",
       "    <tr>\n",
       "      <th>1</th>\n",
       "      <td>10725065</td>\n",
       "      <td>1</td>\n",
       "    </tr>\n",
       "    <tr>\n",
       "      <th>2</th>\n",
       "      <td>11117570</td>\n",
       "      <td>2</td>\n",
       "    </tr>\n",
       "    <tr>\n",
       "      <th>3</th>\n",
       "      <td>11470068</td>\n",
       "      <td>1</td>\n",
       "    </tr>\n",
       "    <tr>\n",
       "      <th>4</th>\n",
       "      <td>11470070</td>\n",
       "      <td>1</td>\n",
       "    </tr>\n",
       "    <tr>\n",
       "      <th>...</th>\n",
       "      <td>...</td>\n",
       "      <td>...</td>\n",
       "    </tr>\n",
       "    <tr>\n",
       "      <th>91</th>\n",
       "      <td>8500790</td>\n",
       "      <td>1</td>\n",
       "    </tr>\n",
       "    <tr>\n",
       "      <th>92</th>\n",
       "      <td>8580225</td>\n",
       "      <td>3</td>\n",
       "    </tr>\n",
       "    <tr>\n",
       "      <th>93</th>\n",
       "      <td>8981019</td>\n",
       "      <td>1</td>\n",
       "    </tr>\n",
       "    <tr>\n",
       "      <th>94</th>\n",
       "      <td>9748712</td>\n",
       "      <td>2</td>\n",
       "    </tr>\n",
       "    <tr>\n",
       "      <th>95</th>\n",
       "      <td>9908847</td>\n",
       "      <td>1</td>\n",
       "    </tr>\n",
       "  </tbody>\n",
       "</table>\n",
       "<p>96 rows × 2 columns</p>\n",
       "</div>"
      ],
      "text/plain": [
       "   product_id  categories\n",
       "0    10152685           2\n",
       "1    10725065           1\n",
       "2    11117570           2\n",
       "3    11470068           1\n",
       "4    11470070           1\n",
       "..        ...         ...\n",
       "91    8500790           1\n",
       "92    8580225           3\n",
       "93    8981019           1\n",
       "94    9748712           2\n",
       "95    9908847           1\n",
       "\n",
       "[96 rows x 2 columns]"
      ]
     },
     "execution_count": 21,
     "metadata": {},
     "output_type": "execute_result"
    }
   ],
   "source": [
    "# количество уникальных категорий, в которых представлен продукт\n",
    "categories = mpstats[['product_id','category_init']].groupby('product_id').nunique().reset_index()\n",
    "categories = categories.rename(columns={'category_init': 'categories'})\n",
    "categories"
   ]
  },
  {
   "cell_type": "code",
   "execution_count": 91,
   "id": "cf3da2ab",
   "metadata": {},
   "outputs": [
    {
     "data": {
      "text/plain": [
       "0    1\n",
       "1    0\n",
       "2    2\n",
       "3    1\n",
       "4    2\n",
       "5    3\n",
       "dtype: int64"
      ]
     },
     "execution_count": 91,
     "metadata": {},
     "output_type": "execute_result"
    }
   ],
   "source": [
    "pd.Series([1,0,2,1,2,3])"
   ]
  },
  {
   "cell_type": "code",
   "execution_count": 109,
   "id": "c3abd5b4",
   "metadata": {},
   "outputs": [
    {
     "data": {
      "text/html": [
       "<div>\n",
       "<style scoped>\n",
       "    .dataframe tbody tr th:only-of-type {\n",
       "        vertical-align: middle;\n",
       "    }\n",
       "\n",
       "    .dataframe tbody tr th {\n",
       "        vertical-align: top;\n",
       "    }\n",
       "\n",
       "    .dataframe thead th {\n",
       "        text-align: right;\n",
       "    }\n",
       "</style>\n",
       "<table border=\"1\" class=\"dataframe\">\n",
       "  <thead>\n",
       "    <tr style=\"text-align: right;\">\n",
       "      <th></th>\n",
       "      <th>genre_name</th>\n",
       "    </tr>\n",
       "  </thead>\n",
       "  <tbody>\n",
       "    <tr>\n",
       "      <th>0</th>\n",
       "      <td>hiphop</td>\n",
       "    </tr>\n",
       "    <tr>\n",
       "      <th>1</th>\n",
       "      <td>hip</td>\n",
       "    </tr>\n",
       "    <tr>\n",
       "      <th>2</th>\n",
       "      <td>hip</td>\n",
       "    </tr>\n",
       "  </tbody>\n",
       "</table>\n",
       "</div>"
      ],
      "text/plain": [
       "  genre_name\n",
       "0     hiphop\n",
       "1        hip\n",
       "2        hip"
      ]
     },
     "execution_count": 109,
     "metadata": {},
     "output_type": "execute_result"
    }
   ],
   "source": [
    "name_genres = pd.DataFrame({'genre_name':['hiphop','hip','hip']})\n",
    "name_genres"
   ]
  },
  {
   "cell_type": "code",
   "execution_count": 110,
   "id": "cf2f7ba2",
   "metadata": {},
   "outputs": [
    {
     "name": "stdout",
     "output_type": "stream",
     "text": [
      "hiphop\n",
      "hip\n",
      "hip\n"
     ]
    }
   ],
   "source": [
    "for i in range(len(name_genres['genre_name'])):\n",
    "    print(name_genres['genre_name'][i])"
   ]
  },
  {
   "cell_type": "code",
   "execution_count": 108,
   "id": "8ba33365",
   "metadata": {},
   "outputs": [
    {
     "name": "stdout",
     "output_type": "stream",
     "text": [
      "1\n",
      "2\n"
     ]
    }
   ],
   "source": [
    "for a in name_genres['genre_name']:\n",
    "    print(a)"
   ]
  },
  {
   "cell_type": "code",
   "execution_count": 124,
   "id": "a4430c14",
   "metadata": {},
   "outputs": [],
   "source": [
    "def find_genre(name, Series):\n",
    "    count = 0\n",
    "    for i in range(len(Series)):\n",
    "        if Series[i] == name:\n",
    "            count += 1\n",
    "            return count\n",
    "    print(count)"
   ]
  },
  {
   "cell_type": "code",
   "execution_count": 125,
   "id": "7c26efac",
   "metadata": {},
   "outputs": [],
   "source": [
    "find_genre('hip', name_genres['genre_name'])"
   ]
  },
  {
   "cell_type": "code",
   "execution_count": null,
   "id": "f4e15a5c",
   "metadata": {},
   "outputs": [],
   "source": [
    "name_genres['genre_name'].apply(find_genre('hip'))"
   ]
  },
  {
   "cell_type": "code",
   "execution_count": 22,
   "id": "a3244a70",
   "metadata": {
    "cellId": "lbgt84h3nvseihzrwyava"
   },
   "outputs": [
    {
     "name": "stdout",
     "output_type": "stream",
     "text": [
      "<class 'pandas.core.frame.DataFrame'>\n",
      "RangeIndex: 4290 entries, 0 to 4289\n",
      "Data columns (total 11 columns):\n",
      " #   Column         Non-Null Count  Dtype \n",
      "---  ------         --------------  ----- \n",
      " 0   product_id     4290 non-null   object\n",
      " 1   name           4290 non-null   object\n",
      " 2   brand          4290 non-null   object\n",
      " 3   category_init  4290 non-null   object\n",
      " 4   comments       4290 non-null   int64 \n",
      " 5   rating         4290 non-null   int64 \n",
      " 6   price          4290 non-null   int64 \n",
      " 7   sales_num      4290 non-null   int64 \n",
      " 8   date           4290 non-null   object\n",
      " 9   category       4290 non-null   object\n",
      " 10  subject        4290 non-null   object\n",
      "dtypes: int64(4), object(7)\n",
      "memory usage: 368.8+ KB\n"
     ]
    }
   ],
   "source": [
    "# после извлечения необходимых данных из поля category снова удаляем дубликаты (особенность данных), с учетом поля category\n",
    "mpstats = mpstats.drop_duplicates(subset=['product_id','date',], keep='last').reset_index(drop=True)\n",
    "mpstats.info()"
   ]
  },
  {
   "cell_type": "code",
   "execution_count": 23,
   "id": "67ff6912",
   "metadata": {
    "cellId": "n0jfaqckn3s1okof3sxedu"
   },
   "outputs": [
    {
     "data": {
      "text/plain": [
       "['25584321', '30053155']"
      ]
     },
     "execution_count": 23,
     "metadata": {},
     "output_type": "execute_result"
    }
   ],
   "source": [
    "# артикулы, у которых название бренда изменялось с течением времени\n",
    "diff_brands = mpstats[['product_id','brand']].groupby('product_id').nunique().reset_index()\n",
    "diff_brands = diff_brands[diff_brands['brand'] > 1].reset_index(drop=True)\n",
    "diff_brands = diff_brands['product_id'].to_list()\n",
    "diff_brands"
   ]
  },
  {
   "cell_type": "code",
   "execution_count": 24,
   "id": "478def84",
   "metadata": {
    "cellId": "z6i8ybrj61q0nisfk627"
   },
   "outputs": [
    {
     "data": {
      "text/plain": [
       "{'Pixeltap': 'Скраб для губ и бровей', 'cafemimi': 'Cafe mimi'}"
      ]
     },
     "execution_count": 24,
     "metadata": {},
     "output_type": "execute_result"
    }
   ],
   "source": [
    "# мэппинг для брендов, названия которых изменялись с течением времени\n",
    "brands_rename = dict()\n",
    "for i in diff_brands:\n",
    "    df_i = mpstats[mpstats['product_id'] == i].reset_index(drop=True)\n",
    "    df_i = df_i.sort_values(by='date').drop_duplicates(subset='brand', keep='last')\n",
    "    brands = df_i['brand'].to_list()\n",
    "    for i in range(len(brands)-1):\n",
    "        brands_rename[brands[i]] = brands[-1]\n",
    "        \n",
    "for k, v in brands_rename.items():\n",
    "    if v in list(brands_rename.keys()):\n",
    "        df_v = mpstats[mpstats['brand'].isin([v, brands_rename[v]])][['brand','date']]\n",
    "        df_v = df_v.drop_duplicates().sort_values(by='date').reset_index(drop=True)\n",
    "        brands_rename[k] = df_v['brand'][len(df_v)-1]\n",
    "        brands_rename[v] = df_v['brand'][len(df_v)-1]\n",
    "brands_rename = {k:v for (k,v) in brands_rename.items() if k != v}\n",
    "brands_rename"
   ]
  },
  {
   "cell_type": "code",
   "execution_count": 25,
   "id": "3773af86",
   "metadata": {
    "cellId": "5fmw1ncm42gr49d3nt6qv"
   },
   "outputs": [
    {
     "data": {
      "text/plain": [
       "52"
      ]
     },
     "execution_count": 25,
     "metadata": {},
     "output_type": "execute_result"
    }
   ],
   "source": [
    "# заменяем \"исторические\" названия брендов на актуальные\n",
    "# таким образом получаем подготовленный для анализа датасет\n",
    "for k in brands_rename.keys():\n",
    "    mpstats['brand'] = mpstats['brand'].replace(k, brands_rename[k])\n",
    "mpstats['brand'].nunique()"
   ]
  },
  {
   "cell_type": "code",
   "execution_count": 26,
   "id": "ec12a142",
   "metadata": {
    "cellId": "wrb2c33p6hgvtwwt10bc3n"
   },
   "outputs": [
    {
     "data": {
      "text/plain": [
       "7385681"
      ]
     },
     "execution_count": 26,
     "metadata": {},
     "output_type": "execute_result"
    }
   ],
   "source": [
    "mpstats['sales_vol'] = mpstats['price'] * mpstats['sales_num']\n",
    "mpstats['sales_vol'].sum()  # объем рынка, руб."
   ]
  },
  {
   "cell_type": "code",
   "execution_count": 27,
   "id": "f588156f",
   "metadata": {
    "cellId": "5pltpa03z4x8dzweix33zm"
   },
   "outputs": [
    {
     "data": {
      "text/html": [
       "<div>\n",
       "<style scoped>\n",
       "    .dataframe tbody tr th:only-of-type {\n",
       "        vertical-align: middle;\n",
       "    }\n",
       "\n",
       "    .dataframe tbody tr th {\n",
       "        vertical-align: top;\n",
       "    }\n",
       "\n",
       "    .dataframe thead th {\n",
       "        text-align: right;\n",
       "    }\n",
       "</style>\n",
       "<table border=\"1\" class=\"dataframe\">\n",
       "  <thead>\n",
       "    <tr style=\"text-align: right;\">\n",
       "      <th></th>\n",
       "      <th>brand</th>\n",
       "      <th>product_id</th>\n",
       "      <th>comments</th>\n",
       "      <th>rating</th>\n",
       "    </tr>\n",
       "  </thead>\n",
       "  <tbody>\n",
       "    <tr>\n",
       "      <th>0</th>\n",
       "      <td>AFTERTASTE</td>\n",
       "      <td>21047316</td>\n",
       "      <td>4</td>\n",
       "      <td>5</td>\n",
       "    </tr>\n",
       "    <tr>\n",
       "      <th>1</th>\n",
       "      <td>AFTERTASTE</td>\n",
       "      <td>21047320</td>\n",
       "      <td>4</td>\n",
       "      <td>5</td>\n",
       "    </tr>\n",
       "    <tr>\n",
       "      <th>2</th>\n",
       "      <td>BIO WORLD</td>\n",
       "      <td>16851748</td>\n",
       "      <td>4</td>\n",
       "      <td>4</td>\n",
       "    </tr>\n",
       "    <tr>\n",
       "      <th>3</th>\n",
       "      <td>BIO WORLD</td>\n",
       "      <td>18225092</td>\n",
       "      <td>0</td>\n",
       "      <td>0</td>\n",
       "    </tr>\n",
       "    <tr>\n",
       "      <th>4</th>\n",
       "      <td>BIO WORLD</td>\n",
       "      <td>26574604</td>\n",
       "      <td>1</td>\n",
       "      <td>5</td>\n",
       "    </tr>\n",
       "    <tr>\n",
       "      <th>...</th>\n",
       "      <td>...</td>\n",
       "      <td>...</td>\n",
       "      <td>...</td>\n",
       "      <td>...</td>\n",
       "    </tr>\n",
       "    <tr>\n",
       "      <th>91</th>\n",
       "      <td>СпивакЪ</td>\n",
       "      <td>7893017</td>\n",
       "      <td>279</td>\n",
       "      <td>5</td>\n",
       "    </tr>\n",
       "    <tr>\n",
       "      <th>92</th>\n",
       "      <td>Флора nature cosmetic</td>\n",
       "      <td>18261149</td>\n",
       "      <td>5</td>\n",
       "      <td>5</td>\n",
       "    </tr>\n",
       "    <tr>\n",
       "      <th>93</th>\n",
       "      <td>Флора nature cosmetic</td>\n",
       "      <td>18261151</td>\n",
       "      <td>0</td>\n",
       "      <td>0</td>\n",
       "    </tr>\n",
       "    <tr>\n",
       "      <th>94</th>\n",
       "      <td>Флора nature cosmetic</td>\n",
       "      <td>33457224</td>\n",
       "      <td>0</td>\n",
       "      <td>0</td>\n",
       "    </tr>\n",
       "    <tr>\n",
       "      <th>95</th>\n",
       "      <td>Флора nature cosmetic</td>\n",
       "      <td>33667345</td>\n",
       "      <td>0</td>\n",
       "      <td>0</td>\n",
       "    </tr>\n",
       "  </tbody>\n",
       "</table>\n",
       "<p>96 rows × 4 columns</p>\n",
       "</div>"
      ],
      "text/plain": [
       "                    brand product_id  comments  rating\n",
       "0              AFTERTASTE   21047316         4       5\n",
       "1              AFTERTASTE   21047320         4       5\n",
       "2               BIO WORLD   16851748         4       4\n",
       "3               BIO WORLD   18225092         0       0\n",
       "4               BIO WORLD   26574604         1       5\n",
       "..                    ...        ...       ...     ...\n",
       "91                СпивакЪ    7893017       279       5\n",
       "92  Флора nature cosmetic   18261149         5       5\n",
       "93  Флора nature cosmetic   18261151         0       0\n",
       "94  Флора nature cosmetic   33457224         0       0\n",
       "95  Флора nature cosmetic   33667345         0       0\n",
       "\n",
       "[96 rows x 4 columns]"
      ]
     },
     "execution_count": 27,
     "metadata": {},
     "output_type": "execute_result"
    }
   ],
   "source": [
    "# рейтинг продуктов и количество отзывов (на текущую дату)\n",
    "rating = mpstats.sort_values(['brand','product_id','date'])\n",
    "rating = rating.drop_duplicates(['brand','product_id'], keep='last')\n",
    "rating = rating[['brand','product_id','comments','rating']].reset_index(drop=True)\n",
    "rating"
   ]
  },
  {
   "cell_type": "code",
   "execution_count": 28,
   "id": "a098e7aa",
   "metadata": {
    "cellId": "05l3dnk480emxeb8tm7895a"
   },
   "outputs": [
    {
     "data": {
      "text/html": [
       "<div>\n",
       "<style scoped>\n",
       "    .dataframe tbody tr th:only-of-type {\n",
       "        vertical-align: middle;\n",
       "    }\n",
       "\n",
       "    .dataframe tbody tr th {\n",
       "        vertical-align: top;\n",
       "    }\n",
       "\n",
       "    .dataframe thead th {\n",
       "        text-align: right;\n",
       "    }\n",
       "</style>\n",
       "<table border=\"1\" class=\"dataframe\">\n",
       "  <thead>\n",
       "    <tr style=\"text-align: right;\">\n",
       "      <th></th>\n",
       "      <th>brand</th>\n",
       "      <th>product_id</th>\n",
       "      <th>sales_period</th>\n",
       "    </tr>\n",
       "  </thead>\n",
       "  <tbody>\n",
       "    <tr>\n",
       "      <th>0</th>\n",
       "      <td>AFTERTASTE</td>\n",
       "      <td>21047316</td>\n",
       "      <td>&gt;6m</td>\n",
       "    </tr>\n",
       "    <tr>\n",
       "      <th>1</th>\n",
       "      <td>AFTERTASTE</td>\n",
       "      <td>21047320</td>\n",
       "      <td>5m</td>\n",
       "    </tr>\n",
       "    <tr>\n",
       "      <th>2</th>\n",
       "      <td>BIO WORLD</td>\n",
       "      <td>16851748</td>\n",
       "      <td>5m</td>\n",
       "    </tr>\n",
       "    <tr>\n",
       "      <th>3</th>\n",
       "      <td>BIO WORLD</td>\n",
       "      <td>18225092</td>\n",
       "      <td>&gt;6m</td>\n",
       "    </tr>\n",
       "    <tr>\n",
       "      <th>4</th>\n",
       "      <td>BIO WORLD</td>\n",
       "      <td>26574604</td>\n",
       "      <td>&gt;6m</td>\n",
       "    </tr>\n",
       "    <tr>\n",
       "      <th>...</th>\n",
       "      <td>...</td>\n",
       "      <td>...</td>\n",
       "      <td>...</td>\n",
       "    </tr>\n",
       "    <tr>\n",
       "      <th>91</th>\n",
       "      <td>СпивакЪ</td>\n",
       "      <td>7893017</td>\n",
       "      <td>&gt;6m</td>\n",
       "    </tr>\n",
       "    <tr>\n",
       "      <th>92</th>\n",
       "      <td>Флора nature cosmetic</td>\n",
       "      <td>18261149</td>\n",
       "      <td>5m</td>\n",
       "    </tr>\n",
       "    <tr>\n",
       "      <th>93</th>\n",
       "      <td>Флора nature cosmetic</td>\n",
       "      <td>18261151</td>\n",
       "      <td>&gt;6m</td>\n",
       "    </tr>\n",
       "    <tr>\n",
       "      <th>94</th>\n",
       "      <td>Флора nature cosmetic</td>\n",
       "      <td>33457224</td>\n",
       "      <td>5m</td>\n",
       "    </tr>\n",
       "    <tr>\n",
       "      <th>95</th>\n",
       "      <td>Флора nature cosmetic</td>\n",
       "      <td>33667345</td>\n",
       "      <td>5m</td>\n",
       "    </tr>\n",
       "  </tbody>\n",
       "</table>\n",
       "<p>96 rows × 3 columns</p>\n",
       "</div>"
      ],
      "text/plain": [
       "                    brand product_id sales_period\n",
       "0              AFTERTASTE   21047316          >6m\n",
       "1              AFTERTASTE   21047320           5m\n",
       "2               BIO WORLD   16851748           5m\n",
       "3               BIO WORLD   18225092          >6m\n",
       "4               BIO WORLD   26574604          >6m\n",
       "..                    ...        ...          ...\n",
       "91                СпивакЪ    7893017          >6m\n",
       "92  Флора nature cosmetic   18261149           5m\n",
       "93  Флора nature cosmetic   18261151          >6m\n",
       "94  Флора nature cosmetic   33457224           5m\n",
       "95  Флора nature cosmetic   33667345           5m\n",
       "\n",
       "[96 rows x 3 columns]"
      ]
     },
     "execution_count": 28,
     "metadata": {},
     "output_type": "execute_result"
    }
   ],
   "source": [
    "# период продаж, мес.\n",
    "start_dates = mpstats.sort_values(['brand','product_id','date'])\n",
    "start_dates = start_dates.drop_duplicates(['brand','product_id'], keep='first')\n",
    "start_dates = start_dates[['brand','product_id','date']].reset_index(drop=True)\n",
    "start_dates['date'] = [x - datetime.timedelta(7) for x in start_dates['date']]  # для достоверности\n",
    "start_dates['r_delta'] = [relativedelta.relativedelta(datetime.date.today(), x) for x in start_dates['date']]\n",
    "start_dates['sales_months'] = [x.months + (12 * x.years) for x in start_dates['r_delta']]\n",
    "start_dates['sales_period'] = ['>6m' if round(x) >= 6 else str(round(x))+'m' for x in start_dates['sales_months']]\n",
    "start_dates = start_dates[['brand','product_id','sales_period']]\n",
    "start_dates"
   ]
  },
  {
   "cell_type": "markdown",
   "id": "20db764c",
   "metadata": {},
   "source": [
    "Определим ценовые кластеры."
   ]
  },
  {
   "cell_type": "code",
   "execution_count": 29,
   "id": "9f0cb179",
   "metadata": {},
   "outputs": [
    {
     "data": {
      "text/plain": [
       "1     0.343823\n",
       "2     0.150583\n",
       "3     0.092774\n",
       "4     0.065035\n",
       "5     0.056643\n",
       "6     0.035664\n",
       "7     0.029604\n",
       "8     0.025641\n",
       "9     0.022611\n",
       "10    0.017016\n",
       "Name: sales_num, dtype: float64"
      ]
     },
     "execution_count": 29,
     "metadata": {},
     "output_type": "execute_result"
    }
   ],
   "source": [
    "mpstats['sales_num'].value_counts(normalize=True).head(10)"
   ]
  },
  {
   "cell_type": "code",
   "execution_count": 59,
   "id": "0385acb6",
   "metadata": {},
   "outputs": [
    {
     "data": {
      "text/html": [
       "<div>\n",
       "<style scoped>\n",
       "    .dataframe tbody tr th:only-of-type {\n",
       "        vertical-align: middle;\n",
       "    }\n",
       "\n",
       "    .dataframe tbody tr th {\n",
       "        vertical-align: top;\n",
       "    }\n",
       "\n",
       "    .dataframe thead th {\n",
       "        text-align: right;\n",
       "    }\n",
       "</style>\n",
       "<table border=\"1\" class=\"dataframe\">\n",
       "  <thead>\n",
       "    <tr style=\"text-align: right;\">\n",
       "      <th></th>\n",
       "      <th>index</th>\n",
       "      <th>price</th>\n",
       "    </tr>\n",
       "  </thead>\n",
       "  <tbody>\n",
       "    <tr>\n",
       "      <th>0</th>\n",
       "      <td>0</td>\n",
       "      <td>995</td>\n",
       "    </tr>\n",
       "    <tr>\n",
       "      <th>1</th>\n",
       "      <td>1</td>\n",
       "      <td>285</td>\n",
       "    </tr>\n",
       "    <tr>\n",
       "      <th>2</th>\n",
       "      <td>1</td>\n",
       "      <td>285</td>\n",
       "    </tr>\n",
       "    <tr>\n",
       "      <th>3</th>\n",
       "      <td>1</td>\n",
       "      <td>285</td>\n",
       "    </tr>\n",
       "    <tr>\n",
       "      <th>4</th>\n",
       "      <td>1</td>\n",
       "      <td>285</td>\n",
       "    </tr>\n",
       "    <tr>\n",
       "      <th>...</th>\n",
       "      <td>...</td>\n",
       "      <td>...</td>\n",
       "    </tr>\n",
       "    <tr>\n",
       "      <th>31938</th>\n",
       "      <td>4288</td>\n",
       "      <td>161</td>\n",
       "    </tr>\n",
       "    <tr>\n",
       "      <th>31939</th>\n",
       "      <td>4289</td>\n",
       "      <td>149</td>\n",
       "    </tr>\n",
       "    <tr>\n",
       "      <th>31940</th>\n",
       "      <td>4289</td>\n",
       "      <td>149</td>\n",
       "    </tr>\n",
       "    <tr>\n",
       "      <th>31941</th>\n",
       "      <td>4289</td>\n",
       "      <td>149</td>\n",
       "    </tr>\n",
       "    <tr>\n",
       "      <th>31942</th>\n",
       "      <td>4289</td>\n",
       "      <td>149</td>\n",
       "    </tr>\n",
       "  </tbody>\n",
       "</table>\n",
       "<p>31943 rows × 2 columns</p>\n",
       "</div>"
      ],
      "text/plain": [
       "       index  price\n",
       "0          0    995\n",
       "1          1    285\n",
       "2          1    285\n",
       "3          1    285\n",
       "4          1    285\n",
       "...      ...    ...\n",
       "31938   4288    161\n",
       "31939   4289    149\n",
       "31940   4289    149\n",
       "31941   4289    149\n",
       "31942   4289    149\n",
       "\n",
       "[31943 rows x 2 columns]"
      ]
     },
     "execution_count": 59,
     "metadata": {},
     "output_type": "execute_result"
    }
   ],
   "source": [
    "# подготовим таблицу с ценами всех продаж\n",
    "prices_exp = mpstats[['sales_num','price']]\n",
    "\n",
    "index = list()\n",
    "prices = list()\n",
    "\n",
    "for i in range(len(prices_exp)):\n",
    "    \n",
    "    price_exp = [prices_exp['price'][i]] * prices_exp['sales_num'][i]\n",
    "    for p in price_exp:\n",
    "        prices.append(p)\n",
    "        \n",
    "    index_exp = [i] * prices_exp['sales_num'][i]\n",
    "    for i in index_exp:\n",
    "        index.append(i)\n",
    "        \n",
    "prices_exp = pd.DataFrame({'index': index, 'price': prices})\n",
    "prices_exp"
   ]
  },
  {
   "cell_type": "code",
   "execution_count": 60,
   "id": "bf12ea71",
   "metadata": {},
   "outputs": [
    {
     "data": {
      "text/plain": [
       "<matplotlib.collections.PathCollection at 0x2006e31e790>"
      ]
     },
     "execution_count": 60,
     "metadata": {},
     "output_type": "execute_result"
    },
    {
     "data": {
      "image/png": "[encoded data removed]",
      "text/plain": [
       "<Figure size 720x360 with 1 Axes>"
      ]
     },
     "metadata": {},
     "output_type": "display_data"
    }
   ],
   "source": [
    "plt.figure(figsize=(10,5))\n",
    "plt.scatter(mpstats['price'],\n",
    "            mpstats['sales_num'],\n",
    "            s=10, c='#6495ED')"
   ]
  },
  {
   "cell_type": "code",
   "execution_count": 61,
   "id": "b4754113",
   "metadata": {},
   "outputs": [
    {
     "data": {
      "text/plain": [
       "<matplotlib.collections.PathCollection at 0x2006f3696d0>"
      ]
     },
     "execution_count": 61,
     "metadata": {},
     "output_type": "execute_result"
    },
    {
     "data": {
      "image/png": "[encoded data removed]",
      "text/plain": [
       "<Figure size 720x360 with 1 Axes>"
      ]
     },
     "metadata": {},
     "output_type": "display_data"
    }
   ],
   "source": [
    "plt.figure(figsize=(10,5))\n",
    "plt.scatter(mpstats[mpstats['price'] < 1000]['price'],\n",
    "            mpstats[mpstats['price'] < 1000]['sales_num'],\n",
    "            s=10, c='#6495ED')"
   ]
  },
  {
   "cell_type": "markdown",
   "id": "2fc9e87c",
   "metadata": {},
   "source": [
    "Определим оптимальное число кластеров."
   ]
  },
  {
   "cell_type": "code",
   "execution_count": 62,
   "id": "46bc20ff",
   "metadata": {},
   "outputs": [
    {
     "data": {
      "image/png": "[encoded data removed]",
      "text/plain": [
       "<Figure size 720x360 with 1 Axes>"
      ]
     },
     "metadata": {},
     "output_type": "display_data"
    }
   ],
   "source": [
    "# the elbow method (справочно)\n",
    "# sum of squared errors within cluster\n",
    "def calculate_cluster_sse(series, kmax=10):\n",
    "    sse = []\n",
    "    points = series.to_numpy().reshape(-1, 1)\n",
    "    for k in range(1, kmax+1):\n",
    "        k_means = KMeans(n_clusters=k).fit(points)\n",
    "        centroids = k_means.cluster_centers_\n",
    "        pred_clusters = k_means.predict(points)\n",
    "        df = pd.DataFrame({'price': series, 'cluster': pred_clusters})\n",
    "        df = df.merge(pd.DataFrame(centroids), left_on='cluster', right_index=True)\n",
    "        df = df.rename(columns={0: 'centre'})\n",
    "        df['sse'] = (df['price'] - df['centre']) ** 2\n",
    "        sse.append(df['sse'].sum())\n",
    "    return sse\n",
    "\n",
    "sse = calculate_cluster_sse(prices_exp['price'])\n",
    "plt.plot([i for i in range(len(sse))], sse)\n",
    "plt.show()"
   ]
  },
  {
   "cell_type": "code",
   "execution_count": 63,
   "id": "88dc7513",
   "metadata": {},
   "outputs": [
    {
     "data": {
      "image/png": "[encoded data removed]",
      "text/plain": [
       "<Figure size 720x360 with 1 Axes>"
      ]
     },
     "metadata": {},
     "output_type": "display_data"
    }
   ],
   "source": [
    "# the silhouette method\n",
    "# the score reaches its global maximum at the optimal k\n",
    "sil = []\n",
    "kmax = 10\n",
    "x = prices_exp['price'].to_numpy().reshape(-1, 1)\n",
    "for k in range(2, kmax+1):\n",
    "    k_means = KMeans(n_clusters=k).fit(x)\n",
    "    labels = k_means.labels_\n",
    "    sil.append(silhouette_score(x, labels, metric='euclidean'))\n",
    "    \n",
    "plt.plot([i+2 for i in range(len(sil))], sil)\n",
    "plt.show()"
   ]
  },
  {
   "cell_type": "code",
   "execution_count": 67,
   "id": "ea4291a9",
   "metadata": {
    "scrolled": true
   },
   "outputs": [
    {
     "data": {
      "text/plain": [
       "2"
      ]
     },
     "execution_count": 67,
     "metadata": {},
     "output_type": "execute_result"
    }
   ],
   "source": [
    "k_opt = sil.index(max(sil)) + 2\n",
    "k_opt"
   ]
  },
  {
   "cell_type": "code",
   "execution_count": 81,
   "id": "23e3d1ff",
   "metadata": {},
   "outputs": [
    {
     "data": {
      "text/html": [
       "<div>\n",
       "<style scoped>\n",
       "    .dataframe tbody tr th:only-of-type {\n",
       "        vertical-align: middle;\n",
       "    }\n",
       "\n",
       "    .dataframe tbody tr th {\n",
       "        vertical-align: top;\n",
       "    }\n",
       "\n",
       "    .dataframe thead th {\n",
       "        text-align: right;\n",
       "    }\n",
       "</style>\n",
       "<table border=\"1\" class=\"dataframe\">\n",
       "  <thead>\n",
       "    <tr style=\"text-align: right;\">\n",
       "      <th></th>\n",
       "      <th>cluster</th>\n",
       "      <th>cluster_centre</th>\n",
       "    </tr>\n",
       "  </thead>\n",
       "  <tbody>\n",
       "    <tr>\n",
       "      <th>0</th>\n",
       "      <td>0</td>\n",
       "      <td>990.0</td>\n",
       "    </tr>\n",
       "    <tr>\n",
       "      <th>1</th>\n",
       "      <td>1</td>\n",
       "      <td>220.0</td>\n",
       "    </tr>\n",
       "  </tbody>\n",
       "</table>\n",
       "</div>"
      ],
      "text/plain": [
       "   cluster  cluster_centre\n",
       "0        0           990.0\n",
       "1        1           220.0"
      ]
     },
     "execution_count": 81,
     "metadata": {},
     "output_type": "execute_result"
    }
   ],
   "source": [
    "k_means = KMeans(n_clusters=k_opt).fit(x)\n",
    "pred_clusters = k_means.predict(x)\n",
    "centroids = k_means.cluster_centers_\n",
    "centres = list()\n",
    "for c in centroids:\n",
    "    centres.append(*c)\n",
    "        \n",
    "prices_clusters = pd.DataFrame({'cluster': [i for i in range(len(centres))], 'cluster_centre': centres})\n",
    "prices_clusters['cluster_centre'] = round(prices_clusters['cluster_centre'],-1)\n",
    "prices_clusters"
   ]
  },
  {
   "cell_type": "code",
   "execution_count": 69,
   "id": "45fafb32",
   "metadata": {},
   "outputs": [
    {
     "data": {
      "text/html": [
       "<div>\n",
       "<style scoped>\n",
       "    .dataframe tbody tr th:only-of-type {\n",
       "        vertical-align: middle;\n",
       "    }\n",
       "\n",
       "    .dataframe tbody tr th {\n",
       "        vertical-align: top;\n",
       "    }\n",
       "\n",
       "    .dataframe thead th {\n",
       "        text-align: right;\n",
       "    }\n",
       "</style>\n",
       "<table border=\"1\" class=\"dataframe\">\n",
       "  <thead>\n",
       "    <tr style=\"text-align: right;\">\n",
       "      <th></th>\n",
       "      <th>index</th>\n",
       "      <th>price</th>\n",
       "      <th>cluster</th>\n",
       "    </tr>\n",
       "  </thead>\n",
       "  <tbody>\n",
       "    <tr>\n",
       "      <th>0</th>\n",
       "      <td>0</td>\n",
       "      <td>995</td>\n",
       "      <td>1</td>\n",
       "    </tr>\n",
       "    <tr>\n",
       "      <th>1</th>\n",
       "      <td>1</td>\n",
       "      <td>285</td>\n",
       "      <td>0</td>\n",
       "    </tr>\n",
       "    <tr>\n",
       "      <th>2</th>\n",
       "      <td>1</td>\n",
       "      <td>285</td>\n",
       "      <td>0</td>\n",
       "    </tr>\n",
       "    <tr>\n",
       "      <th>3</th>\n",
       "      <td>1</td>\n",
       "      <td>285</td>\n",
       "      <td>0</td>\n",
       "    </tr>\n",
       "    <tr>\n",
       "      <th>4</th>\n",
       "      <td>1</td>\n",
       "      <td>285</td>\n",
       "      <td>0</td>\n",
       "    </tr>\n",
       "    <tr>\n",
       "      <th>...</th>\n",
       "      <td>...</td>\n",
       "      <td>...</td>\n",
       "      <td>...</td>\n",
       "    </tr>\n",
       "    <tr>\n",
       "      <th>31938</th>\n",
       "      <td>4288</td>\n",
       "      <td>161</td>\n",
       "      <td>0</td>\n",
       "    </tr>\n",
       "    <tr>\n",
       "      <th>31939</th>\n",
       "      <td>4289</td>\n",
       "      <td>149</td>\n",
       "      <td>0</td>\n",
       "    </tr>\n",
       "    <tr>\n",
       "      <th>31940</th>\n",
       "      <td>4289</td>\n",
       "      <td>149</td>\n",
       "      <td>0</td>\n",
       "    </tr>\n",
       "    <tr>\n",
       "      <th>31941</th>\n",
       "      <td>4289</td>\n",
       "      <td>149</td>\n",
       "      <td>0</td>\n",
       "    </tr>\n",
       "    <tr>\n",
       "      <th>31942</th>\n",
       "      <td>4289</td>\n",
       "      <td>149</td>\n",
       "      <td>0</td>\n",
       "    </tr>\n",
       "  </tbody>\n",
       "</table>\n",
       "<p>31943 rows × 3 columns</p>\n",
       "</div>"
      ],
      "text/plain": [
       "       index  price  cluster\n",
       "0          0    995        1\n",
       "1          1    285        0\n",
       "2          1    285        0\n",
       "3          1    285        0\n",
       "4          1    285        0\n",
       "...      ...    ...      ...\n",
       "31938   4288    161        0\n",
       "31939   4289    149        0\n",
       "31940   4289    149        0\n",
       "31941   4289    149        0\n",
       "31942   4289    149        0\n",
       "\n",
       "[31943 rows x 3 columns]"
      ]
     },
     "execution_count": 69,
     "metadata": {},
     "output_type": "execute_result"
    }
   ],
   "source": [
    "prices_exp['cluster'] = pred_clusters\n",
    "prices_exp"
   ]
  },
  {
   "cell_type": "code",
   "execution_count": 82,
   "id": "05df03c8",
   "metadata": {},
   "outputs": [
    {
     "data": {
      "text/html": [
       "<div>\n",
       "<style scoped>\n",
       "    .dataframe tbody tr th:only-of-type {\n",
       "        vertical-align: middle;\n",
       "    }\n",
       "\n",
       "    .dataframe tbody tr th {\n",
       "        vertical-align: top;\n",
       "    }\n",
       "\n",
       "    .dataframe thead th {\n",
       "        text-align: right;\n",
       "    }\n",
       "</style>\n",
       "<table border=\"1\" class=\"dataframe\">\n",
       "  <thead>\n",
       "    <tr style=\"text-align: right;\">\n",
       "      <th></th>\n",
       "      <th>cluster</th>\n",
       "      <th>cluster_centre</th>\n",
       "      <th>left_border</th>\n",
       "      <th>right_border</th>\n",
       "      <th>price_interval</th>\n",
       "    </tr>\n",
       "  </thead>\n",
       "  <tbody>\n",
       "    <tr>\n",
       "      <th>0</th>\n",
       "      <td>0</td>\n",
       "      <td>990.0</td>\n",
       "      <td>70.0</td>\n",
       "      <td>600.0</td>\n",
       "      <td>70.0-600.0</td>\n",
       "    </tr>\n",
       "    <tr>\n",
       "      <th>1</th>\n",
       "      <td>1</td>\n",
       "      <td>220.0</td>\n",
       "      <td>610.0</td>\n",
       "      <td>4720.0</td>\n",
       "      <td>610.0-4720.0</td>\n",
       "    </tr>\n",
       "  </tbody>\n",
       "</table>\n",
       "</div>"
      ],
      "text/plain": [
       "   cluster  cluster_centre  left_border  right_border price_interval\n",
       "0        0           990.0         70.0         600.0     70.0-600.0\n",
       "1        1           220.0        610.0        4720.0   610.0-4720.0"
      ]
     },
     "execution_count": 82,
     "metadata": {},
     "output_type": "execute_result"
    }
   ],
   "source": [
    "clusters_borders = pd.DataFrame()\n",
    "for i in prices_clusters['cluster'].to_list():\n",
    "    left_border = prices_exp[prices_exp['cluster'] == i]['price'].min()\n",
    "    right_border = prices_exp[prices_exp['cluster'] == i]['price'].max()\n",
    "    cluster = {'cluster': i,\n",
    "              'left_border': int(round(left_border, -1)),\n",
    "              'right_border': int(round(right_border, -1))}\n",
    "    clusters_borders = clusters_borders.append(cluster, ignore_index=True)\n",
    "prices_clusters = prices_clusters.merge(clusters_borders, on='cluster')\n",
    "# prices_clusters['price_interval'] = prices_clusters['left_border'].astype(str) + '-' \\\n",
    "#                                     + prices_clusters['right_border'].astype(str)\n",
    "prices_clusters"
   ]
  },
  {
   "cell_type": "code",
   "execution_count": null,
   "id": "722fa97b",
   "metadata": {},
   "outputs": [],
   "source": [
    "prices_exp = prices_exp.drop_duplicates().reset_index(drop=True)\n",
    "prices_exp = prices_exp.drop(['index','price'], axis=1)\n",
    "prices_exp"
   ]
  },
  {
   "cell_type": "code",
   "execution_count": 38,
   "id": "dfbbc6f2",
   "metadata": {},
   "outputs": [
    {
     "name": "stdout",
     "output_type": "stream",
     "text": [
      "<class 'pandas.core.frame.DataFrame'>\n",
      "RangeIndex: 4290 entries, 0 to 4289\n",
      "Data columns (total 13 columns):\n",
      " #   Column         Non-Null Count  Dtype \n",
      "---  ------         --------------  ----- \n",
      " 0   product_id     4290 non-null   object\n",
      " 1   name           4290 non-null   object\n",
      " 2   brand          4290 non-null   object\n",
      " 3   category_init  4290 non-null   object\n",
      " 4   comments       4290 non-null   int64 \n",
      " 5   rating         4290 non-null   int64 \n",
      " 6   price          4290 non-null   int64 \n",
      " 7   sales_num      4290 non-null   int64 \n",
      " 8   date           4290 non-null   object\n",
      " 9   category       4290 non-null   object\n",
      " 10  subject        4290 non-null   object\n",
      " 11  sales_vol      4290 non-null   int64 \n",
      " 12  cluster        4290 non-null   int32 \n",
      "dtypes: int32(1), int64(5), object(7)\n",
      "memory usage: 419.1+ KB\n"
     ]
    }
   ],
   "source": [
    "mpstats = mpstats.merge(prices_exp, left_index=True, right_index=True)\n",
    "mpstats.info()"
   ]
  },
  {
   "cell_type": "code",
   "execution_count": 39,
   "id": "7e66f567",
   "metadata": {
    "cellId": "neghnksn3he7l5efam1m8"
   },
   "outputs": [],
   "source": [
    "def sales_history_stats(df):\n",
    "    '''\n",
    "    Calculates statistics on sales history, \n",
    "    returns new dataframe\n",
    "    '''\n",
    "    delta = df['date'].max() - df['date'].min()\n",
    "    days = int(delta.days)\n",
    "    values = list(df['sales_num'])\n",
    "    earnings = list(df['sales_vol'])\n",
    "    prices = list(df['price'])\n",
    "    sold_count = sum(values)\n",
    "    sold_vol = sum(earnings)\n",
    " \n",
    "    if len(values) < days:\n",
    "        values.extend([0] * (len(values) - days))\n",
    "        earnings.extend([0] * (len(earnings) - days))\n",
    " \n",
    "    res = pd.Series([sold_count,\n",
    "                     np.mean(values),\n",
    "                     sold_vol,\n",
    "                     np.std(values),\n",
    "                     np.mean(earnings),\n",
    "                     np.std(earnings),\n",
    "                     np.mean(prices)],\n",
    "                     index=['sold',\n",
    "                            'sold_daily',\n",
    "                            'sales_vol',\n",
    "                            'sold_std',\n",
    "                            'daily_earnings',\n",
    "                            'daily_earnings_std',\n",
    "                            'avg_price'])\n",
    "    return round(res, 2)"
   ]
  },
  {
   "cell_type": "code",
   "execution_count": 40,
   "id": "39a0ea19",
   "metadata": {},
   "outputs": [
    {
     "data": {
      "text/html": [
       "<div>\n",
       "<style scoped>\n",
       "    .dataframe tbody tr th:only-of-type {\n",
       "        vertical-align: middle;\n",
       "    }\n",
       "\n",
       "    .dataframe tbody tr th {\n",
       "        vertical-align: top;\n",
       "    }\n",
       "\n",
       "    .dataframe thead th {\n",
       "        text-align: right;\n",
       "    }\n",
       "</style>\n",
       "<table border=\"1\" class=\"dataframe\">\n",
       "  <thead>\n",
       "    <tr style=\"text-align: right;\">\n",
       "      <th></th>\n",
       "      <th>product_id</th>\n",
       "      <th>cluster</th>\n",
       "    </tr>\n",
       "  </thead>\n",
       "  <tbody>\n",
       "    <tr>\n",
       "      <th>0</th>\n",
       "      <td>10152685</td>\n",
       "      <td>0</td>\n",
       "    </tr>\n",
       "    <tr>\n",
       "      <th>1</th>\n",
       "      <td>10725065</td>\n",
       "      <td>0</td>\n",
       "    </tr>\n",
       "    <tr>\n",
       "      <th>2</th>\n",
       "      <td>11117570</td>\n",
       "      <td>1</td>\n",
       "    </tr>\n",
       "    <tr>\n",
       "      <th>3</th>\n",
       "      <td>11470068</td>\n",
       "      <td>0</td>\n",
       "    </tr>\n",
       "    <tr>\n",
       "      <th>4</th>\n",
       "      <td>11470070</td>\n",
       "      <td>0</td>\n",
       "    </tr>\n",
       "    <tr>\n",
       "      <th>...</th>\n",
       "      <td>...</td>\n",
       "      <td>...</td>\n",
       "    </tr>\n",
       "    <tr>\n",
       "      <th>91</th>\n",
       "      <td>8500790</td>\n",
       "      <td>0</td>\n",
       "    </tr>\n",
       "    <tr>\n",
       "      <th>92</th>\n",
       "      <td>8580225</td>\n",
       "      <td>0</td>\n",
       "    </tr>\n",
       "    <tr>\n",
       "      <th>93</th>\n",
       "      <td>8981019</td>\n",
       "      <td>0</td>\n",
       "    </tr>\n",
       "    <tr>\n",
       "      <th>94</th>\n",
       "      <td>9748712</td>\n",
       "      <td>0</td>\n",
       "    </tr>\n",
       "    <tr>\n",
       "      <th>95</th>\n",
       "      <td>9908847</td>\n",
       "      <td>0</td>\n",
       "    </tr>\n",
       "  </tbody>\n",
       "</table>\n",
       "<p>96 rows × 2 columns</p>\n",
       "</div>"
      ],
      "text/plain": [
       "   product_id  cluster\n",
       "0    10152685        0\n",
       "1    10725065        0\n",
       "2    11117570        1\n",
       "3    11470068        0\n",
       "4    11470070        0\n",
       "..        ...      ...\n",
       "91    8500790        0\n",
       "92    8580225        0\n",
       "93    8981019        0\n",
       "94    9748712        0\n",
       "95    9908847        0\n",
       "\n",
       "[96 rows x 2 columns]"
      ]
     },
     "execution_count": 40,
     "metadata": {},
     "output_type": "execute_result"
    }
   ],
   "source": [
    "clusters = mpstats[['product_id','cluster']].groupby(['product_id']).agg(lambda x: pd.Series.mode(x)[0])\n",
    "clusters['cluster'] = clusters['cluster'].astype(int)\n",
    "clusters = clusters.reset_index()\n",
    "clusters"
   ]
  },
  {
   "cell_type": "code",
   "execution_count": 41,
   "id": "45a4b050",
   "metadata": {
    "cellId": "pc6m9gzziyig3wvwcr4iy"
   },
   "outputs": [
    {
     "data": {
      "text/html": [
       "<div>\n",
       "<style scoped>\n",
       "    .dataframe tbody tr th:only-of-type {\n",
       "        vertical-align: middle;\n",
       "    }\n",
       "\n",
       "    .dataframe tbody tr th {\n",
       "        vertical-align: top;\n",
       "    }\n",
       "\n",
       "    .dataframe thead th {\n",
       "        text-align: right;\n",
       "    }\n",
       "</style>\n",
       "<table border=\"1\" class=\"dataframe\">\n",
       "  <thead>\n",
       "    <tr style=\"text-align: right;\">\n",
       "      <th></th>\n",
       "      <th>brand</th>\n",
       "      <th>product_id</th>\n",
       "      <th>market_share</th>\n",
       "      <th>share_cum</th>\n",
       "      <th>sold</th>\n",
       "      <th>sold_daily</th>\n",
       "      <th>sales_vol</th>\n",
       "      <th>daily_earnings</th>\n",
       "      <th>avg_price</th>\n",
       "      <th>cluster</th>\n",
       "      <th>cluster_centre</th>\n",
       "      <th>comments</th>\n",
       "      <th>rating</th>\n",
       "      <th>categories</th>\n",
       "      <th>sales_period</th>\n",
       "    </tr>\n",
       "  </thead>\n",
       "  <tbody>\n",
       "    <tr>\n",
       "      <th>0</th>\n",
       "      <td>essence</td>\n",
       "      <td>11669880</td>\n",
       "      <td>20.05</td>\n",
       "      <td>20.05</td>\n",
       "      <td>7009.0</td>\n",
       "      <td>62.03</td>\n",
       "      <td>1480560.0</td>\n",
       "      <td>13102.30</td>\n",
       "      <td>225.65</td>\n",
       "      <td>0</td>\n",
       "      <td>220.0</td>\n",
       "      <td>469</td>\n",
       "      <td>5</td>\n",
       "      <td>1</td>\n",
       "      <td>&gt;6m</td>\n",
       "    </tr>\n",
       "    <tr>\n",
       "      <th>1</th>\n",
       "      <td>NYX PROFESSIONAL MAKEUP</td>\n",
       "      <td>8104711</td>\n",
       "      <td>8.36</td>\n",
       "      <td>28.41</td>\n",
       "      <td>1631.0</td>\n",
       "      <td>11.99</td>\n",
       "      <td>617133.0</td>\n",
       "      <td>4537.74</td>\n",
       "      <td>390.02</td>\n",
       "      <td>0</td>\n",
       "      <td>220.0</td>\n",
       "      <td>287</td>\n",
       "      <td>4</td>\n",
       "      <td>1</td>\n",
       "      <td>&gt;6m</td>\n",
       "    </tr>\n",
       "    <tr>\n",
       "      <th>2</th>\n",
       "      <td>Cafe mimi</td>\n",
       "      <td>10152685</td>\n",
       "      <td>7.79</td>\n",
       "      <td>36.20</td>\n",
       "      <td>3718.0</td>\n",
       "      <td>35.75</td>\n",
       "      <td>575016.0</td>\n",
       "      <td>5529.00</td>\n",
       "      <td>152.08</td>\n",
       "      <td>0</td>\n",
       "      <td>220.0</td>\n",
       "      <td>303</td>\n",
       "      <td>5</td>\n",
       "      <td>2</td>\n",
       "      <td>&gt;6m</td>\n",
       "    </tr>\n",
       "    <tr>\n",
       "      <th>3</th>\n",
       "      <td>SINICHKA</td>\n",
       "      <td>15049255</td>\n",
       "      <td>6.74</td>\n",
       "      <td>42.94</td>\n",
       "      <td>1499.0</td>\n",
       "      <td>11.36</td>\n",
       "      <td>498126.0</td>\n",
       "      <td>3773.68</td>\n",
       "      <td>341.33</td>\n",
       "      <td>0</td>\n",
       "      <td>220.0</td>\n",
       "      <td>117</td>\n",
       "      <td>5</td>\n",
       "      <td>2</td>\n",
       "      <td>&gt;6m</td>\n",
       "    </tr>\n",
       "    <tr>\n",
       "      <th>4</th>\n",
       "      <td>СпивакЪ</td>\n",
       "      <td>7893017</td>\n",
       "      <td>6.58</td>\n",
       "      <td>49.52</td>\n",
       "      <td>2545.0</td>\n",
       "      <td>16.31</td>\n",
       "      <td>486244.0</td>\n",
       "      <td>3116.95</td>\n",
       "      <td>201.42</td>\n",
       "      <td>0</td>\n",
       "      <td>220.0</td>\n",
       "      <td>279</td>\n",
       "      <td>5</td>\n",
       "      <td>1</td>\n",
       "      <td>&gt;6m</td>\n",
       "    </tr>\n",
       "    <tr>\n",
       "      <th>5</th>\n",
       "      <td>Vivienne Sabo</td>\n",
       "      <td>14253795</td>\n",
       "      <td>4.00</td>\n",
       "      <td>53.52</td>\n",
       "      <td>933.0</td>\n",
       "      <td>7.02</td>\n",
       "      <td>295609.0</td>\n",
       "      <td>2222.62</td>\n",
       "      <td>360.77</td>\n",
       "      <td>0</td>\n",
       "      <td>220.0</td>\n",
       "      <td>56</td>\n",
       "      <td>4</td>\n",
       "      <td>1</td>\n",
       "      <td>&gt;6m</td>\n",
       "    </tr>\n",
       "    <tr>\n",
       "      <th>6</th>\n",
       "      <td>mi&amp;ko</td>\n",
       "      <td>8580225</td>\n",
       "      <td>3.89</td>\n",
       "      <td>57.41</td>\n",
       "      <td>923.0</td>\n",
       "      <td>7.76</td>\n",
       "      <td>287590.0</td>\n",
       "      <td>2416.72</td>\n",
       "      <td>314.34</td>\n",
       "      <td>0</td>\n",
       "      <td>220.0</td>\n",
       "      <td>104</td>\n",
       "      <td>4</td>\n",
       "      <td>3</td>\n",
       "      <td>&gt;6m</td>\n",
       "    </tr>\n",
       "    <tr>\n",
       "      <th>7</th>\n",
       "      <td>СпивакЪ</td>\n",
       "      <td>7893016</td>\n",
       "      <td>3.65</td>\n",
       "      <td>61.06</td>\n",
       "      <td>1322.0</td>\n",
       "      <td>8.70</td>\n",
       "      <td>269764.0</td>\n",
       "      <td>1774.76</td>\n",
       "      <td>205.32</td>\n",
       "      <td>0</td>\n",
       "      <td>220.0</td>\n",
       "      <td>226</td>\n",
       "      <td>4</td>\n",
       "      <td>1</td>\n",
       "      <td>&gt;6m</td>\n",
       "    </tr>\n",
       "    <tr>\n",
       "      <th>8</th>\n",
       "      <td>Витэкс</td>\n",
       "      <td>9908847</td>\n",
       "      <td>2.77</td>\n",
       "      <td>63.83</td>\n",
       "      <td>1285.0</td>\n",
       "      <td>9.88</td>\n",
       "      <td>204221.0</td>\n",
       "      <td>1570.93</td>\n",
       "      <td>164.45</td>\n",
       "      <td>0</td>\n",
       "      <td>220.0</td>\n",
       "      <td>199</td>\n",
       "      <td>4</td>\n",
       "      <td>1</td>\n",
       "      <td>&gt;6m</td>\n",
       "    </tr>\n",
       "    <tr>\n",
       "      <th>9</th>\n",
       "      <td>ariBeauty</td>\n",
       "      <td>37318734</td>\n",
       "      <td>2.57</td>\n",
       "      <td>66.40</td>\n",
       "      <td>607.0</td>\n",
       "      <td>7.49</td>\n",
       "      <td>189716.0</td>\n",
       "      <td>2342.17</td>\n",
       "      <td>304.42</td>\n",
       "      <td>0</td>\n",
       "      <td>220.0</td>\n",
       "      <td>60</td>\n",
       "      <td>5</td>\n",
       "      <td>1</td>\n",
       "      <td>&gt;6m</td>\n",
       "    </tr>\n",
       "  </tbody>\n",
       "</table>\n",
       "</div>"
      ],
      "text/plain": [
       "                     brand product_id  market_share  share_cum    sold  \\\n",
       "0                  essence   11669880         20.05      20.05  7009.0   \n",
       "1  NYX PROFESSIONAL MAKEUP    8104711          8.36      28.41  1631.0   \n",
       "2                Cafe mimi   10152685          7.79      36.20  3718.0   \n",
       "3                 SINICHKA   15049255          6.74      42.94  1499.0   \n",
       "4                  СпивакЪ    7893017          6.58      49.52  2545.0   \n",
       "5            Vivienne Sabo   14253795          4.00      53.52   933.0   \n",
       "6                    mi&ko    8580225          3.89      57.41   923.0   \n",
       "7                  СпивакЪ    7893016          3.65      61.06  1322.0   \n",
       "8                   Витэкс    9908847          2.77      63.83  1285.0   \n",
       "9                ariBeauty   37318734          2.57      66.40   607.0   \n",
       "\n",
       "   sold_daily  sales_vol  daily_earnings  avg_price  cluster  cluster_centre  \\\n",
       "0       62.03  1480560.0        13102.30     225.65        0           220.0   \n",
       "1       11.99   617133.0         4537.74     390.02        0           220.0   \n",
       "2       35.75   575016.0         5529.00     152.08        0           220.0   \n",
       "3       11.36   498126.0         3773.68     341.33        0           220.0   \n",
       "4       16.31   486244.0         3116.95     201.42        0           220.0   \n",
       "5        7.02   295609.0         2222.62     360.77        0           220.0   \n",
       "6        7.76   287590.0         2416.72     314.34        0           220.0   \n",
       "7        8.70   269764.0         1774.76     205.32        0           220.0   \n",
       "8        9.88   204221.0         1570.93     164.45        0           220.0   \n",
       "9        7.49   189716.0         2342.17     304.42        0           220.0   \n",
       "\n",
       "   comments  rating  categories sales_period  \n",
       "0       469       5           1          >6m  \n",
       "1       287       4           1          >6m  \n",
       "2       303       5           2          >6m  \n",
       "3       117       5           2          >6m  \n",
       "4       279       5           1          >6m  \n",
       "5        56       4           1          >6m  \n",
       "6       104       4           3          >6m  \n",
       "7       226       4           1          >6m  \n",
       "8       199       4           1          >6m  \n",
       "9        60       5           1          >6m  "
      ]
     },
     "execution_count": 41,
     "metadata": {},
     "output_type": "execute_result"
    }
   ],
   "source": [
    "# аналитика по продуктам\n",
    "mpstats_product = mpstats.groupby(['brand','product_id']).apply(sales_history_stats).reset_index()\n",
    "mpstats_product['market_share'] = round(mpstats_product['sales_vol'] / mpstats_product['sales_vol'].sum() * 100, 2)\n",
    "mpstats_product = mpstats_product.sort_values(by=['market_share'], ascending=False).reset_index(drop=True)\n",
    "mpstats_product['share_cum'] = mpstats_product['market_share'].cumsum()\n",
    "\n",
    "mpstats_product = mpstats_product.merge(clusters, on=['product_id'])\n",
    "mpstats_product = mpstats_product.merge(prices_clusters, on=['cluster'])\n",
    "mpstats_product = mpstats_product.merge(rating, on=['brand','product_id'])\n",
    "mpstats_product = mpstats_product.merge(categories, on=['product_id'])\n",
    "mpstats_product = mpstats_product.merge(start_dates[['product_id','sales_period']], on=['product_id'])\n",
    "mpstats_product = mpstats_product[['brand',\n",
    "                                   'product_id',\n",
    "                                   'market_share',\n",
    "                                   'share_cum',\n",
    "                                   'sold',\n",
    "                                   'sold_daily',\n",
    "                                   'sales_vol',\n",
    "                                   'daily_earnings',\n",
    "                                   'avg_price',\n",
    "                                   'cluster',\n",
    "                                   'cluster_centre',\n",
    "                                   'comments',\n",
    "                                   'rating',\n",
    "                                   'categories',\n",
    "                                   'sales_period']]\n",
    "mpstats_product['brand'] = [x.replace(' ','\\xa0') for x in mpstats_product['brand']]\n",
    "mpstats_product.head(10)"
   ]
  },
  {
   "cell_type": "markdown",
   "id": "6f2b6a33",
   "metadata": {
    "cellId": "yolhhhzwyyjzkyqayteq"
   },
   "source": [
    "*market_share* - доля рынка, %  \n",
    "*share_cum* - доля рынка накопленная, %  \n",
    "*sold* - объем продаж, шт.  \n",
    "*sold_daily* - среднесуточный объем продаж, шт.  \n",
    "*sales_vol* - объем продаж, руб.  \n",
    "*daily_earnings* - среднесуточный объем продаж, руб.  \n",
    "*avg_price* - средняя цена продажи, руб.   \n",
    "*cluster* - ценовой кластер продукта  \n",
    "*cluster_centre* - средневзвешенная цена ценового сегмента продукта (справочно), руб.  \n",
    "*comments* - количество отзывов, шт. (на текущую дату)  \n",
    "*rating* - рейтинг продукта (на текущую дату)  \n",
    "*categories* - число категорий, в которых представлен продукт  \n",
    "*sales_period* - период продаж, мес."
   ]
  },
  {
   "cell_type": "code",
   "execution_count": 87,
   "id": "21071257",
   "metadata": {},
   "outputs": [
    {
     "name": "stdout",
     "output_type": "stream",
     "text": [
      "0 84.44 749.62\n",
      "1 647.88 2426.82\n"
     ]
    }
   ],
   "source": [
    "for i in prices_clusters['cluster'].to_list():\n",
    "    print(i,\n",
    "          mpstats_product[mpstats_product['cluster'] == i]['avg_price'].min(),\n",
    "          mpstats_product[mpstats_product['cluster'] == i]['avg_price'].max())"
   ]
  },
  {
   "cell_type": "code",
   "execution_count": 42,
   "id": "def9f2a4",
   "metadata": {
    "cellId": "o3fd8804ypjmcw61vs73"
   },
   "outputs": [
    {
     "data": {
      "text/html": [
       "<div>\n",
       "<style scoped>\n",
       "    .dataframe tbody tr th:only-of-type {\n",
       "        vertical-align: middle;\n",
       "    }\n",
       "\n",
       "    .dataframe tbody tr th {\n",
       "        vertical-align: top;\n",
       "    }\n",
       "\n",
       "    .dataframe thead th {\n",
       "        text-align: right;\n",
       "    }\n",
       "</style>\n",
       "<table border=\"1\" class=\"dataframe\">\n",
       "  <thead>\n",
       "    <tr style=\"text-align: right;\">\n",
       "      <th></th>\n",
       "      <th>brand</th>\n",
       "      <th>market_share</th>\n",
       "      <th>share_cum</th>\n",
       "      <th>sold</th>\n",
       "      <th>sold_daily</th>\n",
       "      <th>sales_vol</th>\n",
       "      <th>daily_earnings</th>\n",
       "      <th>avg_price</th>\n",
       "      <th>products</th>\n",
       "    </tr>\n",
       "  </thead>\n",
       "  <tbody>\n",
       "    <tr>\n",
       "      <th>0</th>\n",
       "      <td>essence</td>\n",
       "      <td>20.05</td>\n",
       "      <td>20.05</td>\n",
       "      <td>7009.0</td>\n",
       "      <td>62.03</td>\n",
       "      <td>1480560.0</td>\n",
       "      <td>13102.30</td>\n",
       "      <td>225.65</td>\n",
       "      <td>1</td>\n",
       "    </tr>\n",
       "    <tr>\n",
       "      <th>1</th>\n",
       "      <td>СпивакЪ</td>\n",
       "      <td>11.72</td>\n",
       "      <td>31.77</td>\n",
       "      <td>4442.0</td>\n",
       "      <td>9.98</td>\n",
       "      <td>865752.0</td>\n",
       "      <td>1945.51</td>\n",
       "      <td>203.70</td>\n",
       "      <td>3</td>\n",
       "    </tr>\n",
       "    <tr>\n",
       "      <th>2</th>\n",
       "      <td>Cafe mimi</td>\n",
       "      <td>10.76</td>\n",
       "      <td>42.53</td>\n",
       "      <td>4527.0</td>\n",
       "      <td>14.70</td>\n",
       "      <td>794671.0</td>\n",
       "      <td>2580.10</td>\n",
       "      <td>231.02</td>\n",
       "      <td>4</td>\n",
       "    </tr>\n",
       "    <tr>\n",
       "      <th>3</th>\n",
       "      <td>NYX PROFESSIONAL MAKEUP</td>\n",
       "      <td>8.36</td>\n",
       "      <td>50.89</td>\n",
       "      <td>1631.0</td>\n",
       "      <td>11.99</td>\n",
       "      <td>617133.0</td>\n",
       "      <td>4537.74</td>\n",
       "      <td>390.02</td>\n",
       "      <td>1</td>\n",
       "    </tr>\n",
       "    <tr>\n",
       "      <th>4</th>\n",
       "      <td>SINICHKA</td>\n",
       "      <td>6.74</td>\n",
       "      <td>57.63</td>\n",
       "      <td>1499.0</td>\n",
       "      <td>11.36</td>\n",
       "      <td>498126.0</td>\n",
       "      <td>3773.68</td>\n",
       "      <td>341.33</td>\n",
       "      <td>1</td>\n",
       "    </tr>\n",
       "    <tr>\n",
       "      <th>5</th>\n",
       "      <td>Vivienne Sabo</td>\n",
       "      <td>4.00</td>\n",
       "      <td>61.63</td>\n",
       "      <td>933.0</td>\n",
       "      <td>7.02</td>\n",
       "      <td>295609.0</td>\n",
       "      <td>2222.62</td>\n",
       "      <td>360.77</td>\n",
       "      <td>1</td>\n",
       "    </tr>\n",
       "    <tr>\n",
       "      <th>6</th>\n",
       "      <td>mi&amp;ko</td>\n",
       "      <td>3.91</td>\n",
       "      <td>65.54</td>\n",
       "      <td>927.0</td>\n",
       "      <td>7.60</td>\n",
       "      <td>288886.0</td>\n",
       "      <td>2367.92</td>\n",
       "      <td>314.49</td>\n",
       "      <td>2</td>\n",
       "    </tr>\n",
       "    <tr>\n",
       "      <th>7</th>\n",
       "      <td>Витэкс</td>\n",
       "      <td>3.23</td>\n",
       "      <td>68.77</td>\n",
       "      <td>1476.0</td>\n",
       "      <td>6.71</td>\n",
       "      <td>238199.0</td>\n",
       "      <td>1082.72</td>\n",
       "      <td>173.21</td>\n",
       "      <td>3</td>\n",
       "    </tr>\n",
       "    <tr>\n",
       "      <th>8</th>\n",
       "      <td>Pretty Garden</td>\n",
       "      <td>2.69</td>\n",
       "      <td>71.46</td>\n",
       "      <td>1074.0</td>\n",
       "      <td>4.61</td>\n",
       "      <td>198444.0</td>\n",
       "      <td>851.69</td>\n",
       "      <td>186.83</td>\n",
       "      <td>4</td>\n",
       "    </tr>\n",
       "    <tr>\n",
       "      <th>9</th>\n",
       "      <td>ariBeauty</td>\n",
       "      <td>2.57</td>\n",
       "      <td>74.03</td>\n",
       "      <td>607.0</td>\n",
       "      <td>7.49</td>\n",
       "      <td>189716.0</td>\n",
       "      <td>2342.17</td>\n",
       "      <td>304.42</td>\n",
       "      <td>1</td>\n",
       "    </tr>\n",
       "  </tbody>\n",
       "</table>\n",
       "</div>"
      ],
      "text/plain": [
       "                     brand  market_share  share_cum    sold  sold_daily  \\\n",
       "0                  essence         20.05      20.05  7009.0       62.03   \n",
       "1                  СпивакЪ         11.72      31.77  4442.0        9.98   \n",
       "2                Cafe mimi         10.76      42.53  4527.0       14.70   \n",
       "3  NYX PROFESSIONAL MAKEUP          8.36      50.89  1631.0       11.99   \n",
       "4                 SINICHKA          6.74      57.63  1499.0       11.36   \n",
       "5            Vivienne Sabo          4.00      61.63   933.0        7.02   \n",
       "6                    mi&ko          3.91      65.54   927.0        7.60   \n",
       "7                   Витэкс          3.23      68.77  1476.0        6.71   \n",
       "8            Pretty Garden          2.69      71.46  1074.0        4.61   \n",
       "9                ariBeauty          2.57      74.03   607.0        7.49   \n",
       "\n",
       "   sales_vol  daily_earnings  avg_price  products  \n",
       "0  1480560.0        13102.30     225.65         1  \n",
       "1   865752.0         1945.51     203.70         3  \n",
       "2   794671.0         2580.10     231.02         4  \n",
       "3   617133.0         4537.74     390.02         1  \n",
       "4   498126.0         3773.68     341.33         1  \n",
       "5   295609.0         2222.62     360.77         1  \n",
       "6   288886.0         2367.92     314.49         2  \n",
       "7   238199.0         1082.72     173.21         3  \n",
       "8   198444.0          851.69     186.83         4  \n",
       "9   189716.0         2342.17     304.42         1  "
      ]
     },
     "execution_count": 42,
     "metadata": {},
     "output_type": "execute_result"
    }
   ],
   "source": [
    "# аналитика по брендам\n",
    "mpstats_brand = mpstats.groupby(['brand']).apply(sales_history_stats).reset_index()\n",
    "mpstats_brand['market_share'] = round(mpstats_brand['sales_vol'] / mpstats_brand['sales_vol'].sum() * 100, 2)\n",
    "mpstats_brand = mpstats_brand.sort_values(by=['market_share'], ascending=False)\n",
    "mpstats_brand['share_cum'] = mpstats_brand['market_share'].cumsum()\n",
    "mpstats_brand['brand'] = [x.replace(' ','\\xa0') for x in mpstats_brand['brand']]\n",
    "mpstats_brand = mpstats_brand.merge(\n",
    "                        mpstats_product[['brand','product_id','rating']].groupby(['brand']).agg(\n",
    "                        products = pd.NamedAgg('product_id', 'count')).reset_index(),\n",
    "                        how='left', on='brand')\n",
    "mpstats_brand = mpstats_brand[['brand',\n",
    "                               'market_share',\n",
    "                               'share_cum',\n",
    "                               'sold',\n",
    "                               'sold_daily',\n",
    "                               'sales_vol',\n",
    "                               'daily_earnings',\n",
    "                               'avg_price',\n",
    "                               'products']]\n",
    "\n",
    "# for col in mpstats_brand.columns:\n",
    "#     mpstats_brand[col] = ['{0:,}'.format(x).replace(',', '\\xa0') \\\n",
    "#                           if isinstance(x, (float, int)) and x >= 1000 \\\n",
    "#                           else x for x in mpstats_brand[col]]\n",
    "\n",
    "# for col in mpstats_brand.columns:\n",
    "#     if col not in ['products']:\n",
    "#         mpstats_brand[col] = ['{:.2f}'.format(x) \\\n",
    "#                                 if isinstance(x, (float, int)) \\\n",
    "#                                 else x for x in mpstats_brand[col]]\n",
    "\n",
    "mpstats_brand.head(10)"
   ]
  },
  {
   "cell_type": "code",
   "execution_count": 43,
   "id": "384f076e",
   "metadata": {
    "cellId": "4w25q0ohd29gr6erzhx2gn"
   },
   "outputs": [
    {
     "name": "stdout",
     "output_type": "stream",
     "text": [
      "Степень монополизации рынка - 8.6%\n",
      "--> Неконцентрированный рынок\n"
     ]
    }
   ],
   "source": [
    "# степень монополизации рынка\n",
    "# индекс Херфиндаля-Хиршмана\n",
    "shares = mpstats_brand['market_share'].to_list()\n",
    "ihh = sum([(x/100)**2 for x in shares])\n",
    "print(f'Степень монополизации рынка - {round(ihh*100,1)}%')\n",
    "\n",
    "if ihh <= 0.1:\n",
    "    print('--> Неконцентрированный рынок')\n",
    "elif 0.1 < ihh <= 0.18:\n",
    "    print('--> Умеренно концентрированный рынок')\n",
    "else:\n",
    "    print('--> Высококонцентрированный рынок')"
   ]
  },
  {
   "cell_type": "code",
   "execution_count": null,
   "id": "809d2b72",
   "metadata": {
    "cellId": "2mu7aw7qivrsyekixb0ob"
   },
   "outputs": [],
   "source": [
    "#  деление рынка по брендам, визуализация\n",
    "n = 16\n",
    "brand_barplot = mpstats_brand[['brand','market_share']]\n",
    "brand_barplot['labels'] = [x.lower() \\\n",
    "                           if x in brand_barplot['brand'].head(n).to_list() \\\n",
    "                           else 'other' for x in brand_barplot['brand']]\n",
    "brand_barplot = brand_barplot.groupby(['labels']).sum().reset_index().sort_values(by='market_share',ascending=False)\n",
    "brand_barplot['labels'] = [x.lower() if len(x) <= 10 else x[:10]+'...' for x in brand_barplot['labels']]\n",
    "other = brand_barplot[brand_barplot['labels'] == 'other']\n",
    "brand_barplot = brand_barplot[brand_barplot['labels'] != 'other']\n",
    "brand_barplot = pd.concat([brand_barplot,other], axis=0).reset_index(drop=True)\n",
    "\n",
    "other = mpstats_brand[['brand','market_share']]\n",
    "other['labels'] = [x.lower() if len(x) <= 10 else x[:10]+'...' for x in other['brand']]\n",
    "other['labels'] = [x.lower() if x not in other['labels'].head(n).to_list() else None for x in other['labels']]\n",
    "other = other.dropna(axis=0).head(n)\n",
    "\n",
    "cmap = plt.get_cmap('Spectral')\n",
    "colors = [cmap(i) for i in np.linspace(0, 1, len(brand_barplot)+15)[12:]] \n",
    "\n",
    "sns.set(rc={'figure.figsize':(10,12)})\n",
    "sns.set_theme(style=\"white\")\n",
    "\n",
    "fig, ax = plt.subplots(2,1)\n",
    "p1 = sns.barplot(x='labels',\n",
    "                y='market_share',\n",
    "                data=brand_barplot,\n",
    "                palette=colors,\n",
    "                dodge=False,\n",
    "                ax=ax[0])\n",
    "for item in p1.get_xticklabels():\n",
    "    item.set_rotation(45)\n",
    "    \n",
    "if not other.empty:\n",
    "    p2 = sns.barplot(x='labels',\n",
    "                    y='market_share',\n",
    "                    data=other,\n",
    "                    palette=colors,\n",
    "                    dodge=False,\n",
    "                    ax=ax[1])\n",
    "    for item in p2.get_xticklabels():\n",
    "        item.set_rotation(45)\n",
    "    \n",
    "sns.despine()"
   ]
  },
  {
   "cell_type": "code",
   "execution_count": 45,
   "id": "a59e8a1c",
   "metadata": {
    "cellId": "90lngqb7cypajjwntq4nxa"
   },
   "outputs": [
    {
     "data": {
      "text/html": [
       "<div>\n",
       "<style scoped>\n",
       "    .dataframe tbody tr th:only-of-type {\n",
       "        vertical-align: middle;\n",
       "    }\n",
       "\n",
       "    .dataframe tbody tr th {\n",
       "        vertical-align: top;\n",
       "    }\n",
       "\n",
       "    .dataframe thead th {\n",
       "        text-align: right;\n",
       "    }\n",
       "</style>\n",
       "<table border=\"1\" class=\"dataframe\">\n",
       "  <thead>\n",
       "    <tr style=\"text-align: right;\">\n",
       "      <th></th>\n",
       "      <th>cluster</th>\n",
       "      <th>cluster_centre</th>\n",
       "      <th>products</th>\n",
       "      <th>sold</th>\n",
       "      <th>sales_vol</th>\n",
       "    </tr>\n",
       "  </thead>\n",
       "  <tbody>\n",
       "    <tr>\n",
       "      <th>0</th>\n",
       "      <td>0</td>\n",
       "      <td>220.0</td>\n",
       "      <td>86</td>\n",
       "      <td>31524.0</td>\n",
       "      <td>6973511.0</td>\n",
       "    </tr>\n",
       "    <tr>\n",
       "      <th>1</th>\n",
       "      <td>1</td>\n",
       "      <td>990.0</td>\n",
       "      <td>10</td>\n",
       "      <td>419.0</td>\n",
       "      <td>412170.0</td>\n",
       "    </tr>\n",
       "  </tbody>\n",
       "</table>\n",
       "</div>"
      ],
      "text/plain": [
       "   cluster cluster_centre  products     sold  sales_vol\n",
       "0        0          220.0        86  31524.0  6973511.0\n",
       "1        1          990.0        10    419.0   412170.0"
      ]
     },
     "execution_count": 45,
     "metadata": {},
     "output_type": "execute_result"
    }
   ],
   "source": [
    "# ценовые сегменты, визуализация\n",
    "barplot_df = prices_clusters.merge(mpstats_product[['cluster',\n",
    "                                                    'product_id',\n",
    "                                                    'sold',\n",
    "                                                    'sales_vol']].groupby(['cluster']).agg(\n",
    "    products = pd.NamedAgg('product_id', 'count'),  # число продуктов в ценовом кластере, шт.\n",
    "    sold = pd.NamedAgg('sold', 'sum'),  # количество продаж в ценовом кластере, шт.\n",
    "    sales_vol = pd.NamedAgg('sales_vol', 'sum')  # объем продаж в ценовом кластере, руб.\n",
    "    ).reset_index(), how='left', on='cluster')\n",
    "barplot_df = barplot_df[['cluster',\n",
    "                         'cluster_centre',\n",
    "                         'products',\n",
    "                         'sold',\n",
    "                         'sales_vol']]\n",
    "barplot_df = barplot_df.fillna(0)\n",
    "barplot_df['cluster_centre'] = barplot_df['cluster_centre'].astype(str)\n",
    "barplot_df"
   ]
  },
  {
   "cell_type": "code",
   "execution_count": null,
   "id": "de98c172",
   "metadata": {
    "cellId": "bt97gpsg1ukxlonsdmicw",
    "jupyter": {
     "outputs_hidden": true
    }
   },
   "outputs": [],
   "source": [
    "# ценовые сегменты, визуализация\n",
    "sns.set(rc={'figure.figsize':(8,17)})\n",
    "sns.set_theme(style=\"white\")\n",
    "fig, ax = plt.subplots(3,1)\n",
    "\n",
    "p1 = sns.barplot(x='products',\n",
    "                 y='cluster_centre',\n",
    "                 data=barplot_df,\n",
    "                 orient='h',\n",
    "                 palette=colors,\n",
    "                 dodge=False,\n",
    "                 ax=ax[0],\n",
    "                 log=False)\n",
    "p1.grid()\n",
    "\n",
    "p2 = sns.barplot(x='sold',\n",
    "                 y='cluster_centre',\n",
    "                 data=barplot_df,\n",
    "                 orient='h',\n",
    "                 palette=colors,\n",
    "                 dodge=False,\n",
    "                 ax=ax[1],\n",
    "                 log=False)\n",
    "p2.grid()\n",
    "\n",
    "p3 = sns.barplot(x='sales_vol',\n",
    "                 y='cluster_centre',\n",
    "                 data=barplot_df,\n",
    "                 orient='h',\n",
    "                 palette=colors,\n",
    "                 dodge=False,\n",
    "                 ax=ax[2],\n",
    "                 log=False)\n",
    "p3.grid()\n",
    "\n",
    "sns.despine()"
   ]
  },
  {
   "cell_type": "code",
   "execution_count": 49,
   "id": "84810684",
   "metadata": {
    "cellId": "4am9qlnlctif3l3p2pkjkr"
   },
   "outputs": [
    {
     "name": "stdout",
     "output_type": "stream",
     "text": [
      "mean \t 275.5\n",
      "median \t 220.0\n",
      "stdev \t 224.7\n"
     ]
    }
   ],
   "source": [
    "# доп. сведения по ценам\n",
    "price_mean = mpstats['price'].mean()  # среднее значение цены\n",
    "price_median = mpstats['price'].median()  # медианное значение цены\n",
    "price_std = mpstats['price'].std()  # стандартное отклонение (справочно)\n",
    "\n",
    "print('mean', '\\t', round(price_mean,1))\n",
    "print('median', '\\t', round(price_median,1))\n",
    "print('stdev', '\\t', round(price_std,1))"
   ]
  },
  {
   "cell_type": "code",
   "execution_count": 50,
   "id": "6961de1c",
   "metadata": {
    "cellId": "9qlk49cp0dej3ovr0mnok",
    "jupyter": {
     "outputs_hidden": true
    }
   },
   "outputs": [
    {
     "data": {
      "text/plain": [
       "<matplotlib.legend.Legend at 0x2006c7a3ac0>"
      ]
     },
     "execution_count": 50,
     "metadata": {},
     "output_type": "execute_result"
    },
    {
     "data": {
      "image/png": "[encoded data removed]",
      "text/plain": [
       "<Figure size 720x360 with 1 Axes>"
      ]
     },
     "metadata": {},
     "output_type": "display_data"
    }
   ],
   "source": [
    "# визуализация параметрического распределения\n",
    "# гистограмма + график плотности распределения\n",
    "sns.set(rc={'figure.figsize':(10,5)})\n",
    "sns.set_theme(style=\"white\", palette=colors[10:])\n",
    "plt.axvline(price_median,  # медианное значение цены\n",
    "            linewidth=1,\n",
    "            color=colors[10],\n",
    "            linestyle='-',\n",
    "            label=\"median\")\n",
    "plt.axvline(price_mean,  # среднее значение цены\n",
    "            linewidth=1,\n",
    "            color=colors[9],\n",
    "            linestyle='--',\n",
    "            label=\"mean\")\n",
    "p = sns.distplot(mpstats['price'], bins=60)\n",
    "p.set_xlabel(\"price\", fontsize=12)\n",
    "p.set_ylabel(\"probability density\", fontsize=12)\n",
    "sns.despine()\n",
    "plt.legend()"
   ]
  },
  {
   "cell_type": "code",
   "execution_count": 89,
   "id": "f62e727c",
   "metadata": {},
   "outputs": [],
   "source": [
    "def round_50(x):\n",
    "    return round(x * 2, -2) // 2"
   ]
  },
  {
   "cell_type": "code",
   "execution_count": null,
   "id": "713559df",
   "metadata": {
    "cellId": "6452ixgg88rk0dct44d62n"
   },
   "outputs": [],
   "source": [
    "sales_bars = mpstats[['price','sales_vol']]\n",
    "# sales_bars['price'] = round(sales_bars['price'], -2)\n",
    "sales_bars['price'] = [round_50(x) for x in sales_bars['price']]\n",
    "sales_bars = sales_bars.groupby(['price']).sum().reset_index()\n",
    "\n",
    "sns.set(rc={'figure.figsize':(10,5)})\n",
    "sns.set_theme(style=\"white\")\n",
    "barplot = sns.barplot(x='price',\n",
    "                      y='sales_vol',\n",
    "                      data=sales_bars,\n",
    "                      dodge=False,\n",
    "                      log=False)\n",
    "for item in barplot.get_xticklabels():\n",
    "    item.set_rotation(40)\n",
    "sns.despine()"
   ]
  }
 ],
 "metadata": {
  "kernelspec": {
   "display_name": "Python 3 (ipykernel)",
   "language": "python",
   "name": "python3"
  },
  "language_info": {
   "codemirror_mode": {
    "name": "ipython",
    "version": 3
   },
   "file_extension": ".py",
   "mimetype": "text/x-python",
   "name": "python",
   "nbconvert_exporter": "python",
   "pygments_lexer": "ipython3",
   "version": "3.9.7"
  },
  "notebookId": "6aef9f2c-3ad2-4afa-b4a0-c51a440457e4",
  "notebookPath": "npd_market_research/market_research.ipynb"
 },
 "nbformat": 4,
 "nbformat_minor": 5
}
